{
 "cells": [
  {
   "cell_type": "code",
   "execution_count": null,
   "metadata": {},
   "outputs": [],
   "source": [
    "# Intro\n",
    "\n",
    "# Statistical Background\n",
    "\n",
    "# Supervised Learning\n",
    "\n",
    "# Linear/Logistic Regression\n",
    "\n",
    "# Decision Tree / Random Forest Classification\n",
    "#   Train-Test\n",
    "#   Hyperparameter tuning\n",
    "#   Overfitting/Underfitting\n",
    "#   Feature Importance\n",
    "\n",
    "# Metrics\n",
    "#   Accuracy, Recall, Precision, F1-Score\n",
    "#   Confusion Matrix\n",
    "\n",
    "# Imbalanced Datasets\n",
    "\n",
    "# Data Cleaning\n",
    "#   Imputation\n",
    "#   Missing Values\n",
    "\n",
    "# Feature Analysis\n",
    "#   Categorical vs Numerical Features\n",
    "#   Encodings\n",
    "#   PCA\n",
    "\n",
    "# SVM ???\n",
    "\n",
    "# Cross-validation\n",
    "#   Different FOLDS\n",
    "\n",
    "# Unsupervised Learnning\n",
    "# K-Means \n",
    "\n",
    "# Pipelining"
   ]
  },
  {
   "cell_type": "code",
   "execution_count": null,
   "metadata": {},
   "outputs": [],
   "source": [
    "# Notes\n",
    "\n"
   ]
  }
 ],
 "metadata": {
  "language_info": {
   "name": "python"
  }
 },
 "nbformat": 4,
 "nbformat_minor": 2
}
