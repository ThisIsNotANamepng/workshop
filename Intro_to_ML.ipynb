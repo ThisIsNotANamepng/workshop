{
 "cells": [
  {
   "cell_type": "markdown",
   "metadata": {},
   "source": [
    "# Introduction to Machine Learning (Part 1)\n"
   ]
  },
  {
   "cell_type": "markdown",
   "metadata": {},
   "source": [
    "## Imports"
   ]
  },
  {
   "cell_type": "code",
   "execution_count": 44,
   "metadata": {},
   "outputs": [],
   "source": [
    "import numpy as np\n",
    "import scipy\n",
    "import matplotlib.pyplot as plt"
   ]
  },
  {
   "cell_type": "markdown",
   "metadata": {},
   "source": [
    "## Statistical Background\n"
   ]
  },
  {
   "cell_type": "markdown",
   "metadata": {},
   "source": [
    "### Types of Data\n",
    "- Numerical \n",
    "- Categorical"
   ]
  },
  {
   "cell_type": "code",
   "execution_count": null,
   "metadata": {},
   "outputs": [],
   "source": [
    "# numerical\n",
    "a = [1, 2, 3, 4, 5] # discrete\n",
    "b = [0.001, 0.002, 0.003, 0.004, 0.005] # continuous\n",
    "\n",
    "# categorical\n",
    "c = ['a', 'b', 'c', 'd', 'e'] # ordinal\n",
    "d = ['cat', 'dog', 'bird', 'fish', 'lizard'] # nominal"
   ]
  },
  {
   "cell_type": "markdown",
   "metadata": {},
   "source": [
    "### Types of Variables \n",
    "\n",
    "- **Independent Variables** also called input variables, explanatory variables, predictors, features, or attributes.\n",
    "- **Dependent Variables** also called outcome variable, response variable, output variable, or class."
   ]
  },
  {
   "cell_type": "code",
   "execution_count": 12,
   "metadata": {},
   "outputs": [
    {
     "data": {
      "image/png": "[encoded data removed]",
      "text/plain": [
       "<Figure size 640x480 with 1 Axes>"
      ]
     },
     "metadata": {},
     "output_type": "display_data"
    }
   ],
   "source": [
    "x = [1, 2, 3, 4, 5]\n",
    "y = [10, 5, 3, 2, 1]\n",
    "\n",
    "# create figure\n",
    "plt.scatter(\n",
    "    x,\n",
    "    y,\n",
    "    marker='x'\n",
    ")\n",
    "\n",
    "plt.xlabel('Feature')\n",
    "plt.ylabel('Prediction')\n",
    "plt.title('Scatter Plot of X vs Y');"
   ]
  },
  {
   "cell_type": "markdown",
   "metadata": {},
   "source": [
    "### Sampling\n",
    "**Sample Space**: The set of all possible outcomes of an random trial."
   ]
  },
  {
   "cell_type": "code",
   "execution_count": 4,
   "metadata": {},
   "outputs": [],
   "source": [
    "# create a random number generator\n",
    "rng = np.random.default_rng(seed=42)"
   ]
  },
  {
   "cell_type": "code",
   "execution_count": 14,
   "metadata": {},
   "outputs": [
    {
     "name": "stdout",
     "output_type": "stream",
     "text": [
      "['tails']\n",
      "[5 5]\n"
     ]
    }
   ],
   "source": [
    "# consider a coin flip\n",
    "result_c = rng.choice(['heads', 'tails'], size=1) # what is the sample space?\n",
    "\n",
    "# consider a die roll\n",
    "result_d = rng.choice([1, 2, 3, 4, 5, 6], size=2) # what is the sample space?\n",
    "\n",
    "print(result_c)\n",
    "print(result_d)\n"
   ]
  },
  {
   "cell_type": "markdown",
   "metadata": {},
   "source": [
    "### Probability Distributions (Distributions)\n",
    "\n",
    "\"A distribution is a function that gives the probabilities of occurrence of possible outcomes for an experiment.\"\n",
    "\n",
    "**Examples**:\n",
    "- Uniform Distribution\n",
    "- Normal Distribution\n",
    "- Binomial Distribution\n",
    "- etc.\n",
    "\n"
   ]
  },
  {
   "cell_type": "markdown",
   "metadata": {},
   "source": [
    "**Normal Distribution**\n",
    "\n",
    "<img src=\"./extra/imgs/normal_dist.png\" alt=\"normal distribution\" width=\"600\" height=\"300\"/>\n"
   ]
  },
  {
   "cell_type": "markdown",
   "metadata": {},
   "source": [
    "**Uniform Distribution**\n",
    "\n",
    "<img src=\"./extra/imgs/uniform_dist.png\" alt=\"uniform distribution\" width=\"550\" height=\"300\"/>\n"
   ]
  },
  {
   "cell_type": "code",
   "execution_count": 220,
   "metadata": {},
   "outputs": [
    {
     "data": {
      "image/png": "[encoded data removed]",
      "text/plain": [
       "<Figure size 640x480 with 1 Axes>"
      ]
     },
     "metadata": {},
     "output_type": "display_data"
    }
   ],
   "source": [
    "# consider a coin flip again\n",
    "\n",
    "result_c = rng.choice(['heads', 'tails'], size=100) \n",
    "\n",
    "head_count = np.count_nonzero(result_c == 'heads')\n",
    "tail_count = np.count_nonzero(result_c == 'tails')\n",
    "\n",
    "plt.bar(x=['heads', 'tails'], height=[head_count, tail_count], width=0.5)\n",
    "\n",
    "plt.show()\n",
    "# what type of distribution are we sampling from?"
   ]
  },
  {
   "cell_type": "markdown",
   "metadata": {},
   "source": [
    "### Normalization"
   ]
  },
  {
   "cell_type": "code",
   "execution_count": null,
   "metadata": {},
   "outputs": [],
   "source": []
  },
  {
   "cell_type": "markdown",
   "metadata": {},
   "source": [
    "### Distance \n",
    "\n",
    "- **L1 Distance** (i.e. Manhattan Distance)\n",
    "- **L2 Distance** (i.e. Euclidean Distance)"
   ]
  },
  {
   "cell_type": "markdown",
   "metadata": {},
   "source": [
    "<img src=\"./extra/imgs/l1_vs_l2_distance.svg.png\" alt=\"normal distribution\" width=\"350\" height=\"350\"/>"
   ]
  },
  {
   "cell_type": "markdown",
   "metadata": {},
   "source": [
    "For any points $p, q \\in R^2$:\n",
    "\n",
    "$L1(p, q)=|p_1 - p_2| + |q_1 + q_2|$"
   ]
  },
  {
   "cell_type": "code",
   "execution_count": 4,
   "metadata": {},
   "outputs": [
    {
     "name": "stdout",
     "output_type": "stream",
     "text": [
      "L1 Distance in one dimension: 8\n",
      "L1 Distance in two dimensions: 12\n"
     ]
    }
   ],
   "source": [
    "x1, x2 = 2, 10\n",
    "y1, y2 = 3, -1\n",
    "\n",
    "# L1 Distance\n",
    "\n",
    "# 1 dim\n",
    "dist1 = np.abs(x1-x2)\n",
    "\n",
    "# 2 dim\n",
    "dist2 = np.abs(x1 - x2) + np.abs(y1 - y2)\n",
    "\n",
    "print(f'L1 Distance in one dimension: {dist1}')\n",
    "print(f'L1 Distance in two dimensions: {dist2}')"
   ]
  },
  {
   "cell_type": "markdown",
   "metadata": {},
   "source": [
    "For any points  $p, q \\in R^2$\n",
    "\n",
    "$L2(p, q)=\\sqrt{(p_1 - p_2)^2 + (q_1 - q_2)^2}$"
   ]
  },
  {
   "cell_type": "code",
   "execution_count": 5,
   "metadata": {},
   "outputs": [
    {
     "name": "stdout",
     "output_type": "stream",
     "text": [
      "L2 Distance in one dimension: 8.0\n",
      "L2 Distance in two dimensions: 8.94427190999916\n"
     ]
    }
   ],
   "source": [
    "x1, x2 = 2, 10\n",
    "y1, y2 = 3, -1\n",
    "\n",
    "# L2 Distance\n",
    "\n",
    "# 1 dim\n",
    "dist1 = np.sqrt(np.pow(x1 - x2, 2))\n",
    "\n",
    "# 2 dim\n",
    "dist2 = np.sqrt(np.pow(x1 - x2, 2) + np.pow(y1 - y2, 2))\n",
    "\n",
    "print(f'L2 Distance in one dimension: {dist1}')\n",
    "print(f'L2 Distance in two dimensions: {dist2}')\n"
   ]
  },
  {
   "cell_type": "markdown",
   "metadata": {},
   "source": []
  },
  {
   "cell_type": "markdown",
   "metadata": {},
   "source": [
    "## Linear/Logistic Regression\n"
   ]
  },
  {
   "cell_type": "markdown",
   "metadata": {},
   "source": [
    "<img src=\"./extra/imgs/lin_and_log_reg.png\" alt=\"normal distribution\" width=\"600\" height=\"300\"/>"
   ]
  },
  {
   "cell_type": "code",
   "execution_count": 23,
   "metadata": {},
   "outputs": [],
   "source": [
    "from sklearn.linear_model import LinearRegression\n",
    "from sklearn.metrics import mean_squared_error, r2_score"
   ]
  },
  {
   "cell_type": "markdown",
   "metadata": {},
   "source": [
    "### Linear Regression"
   ]
  },
  {
   "cell_type": "code",
   "execution_count": 43,
   "metadata": {},
   "outputs": [
    {
     "name": "stdout",
     "output_type": "stream",
     "text": [
      "Coefficients: W=-2.2 b=11.8\n",
      "Mean squared error: 0.08\n",
      "R squared score: 0.99\n"
     ]
    },
    {
     "data": {
      "image/png": "[encoded data removed]",
      "text/plain": [
       "<Figure size 640x480 with 1 Axes>"
      ]
     },
     "metadata": {},
     "output_type": "display_data"
    }
   ],
   "source": [
    "# TODO Introduce parameters (of models).\n",
    "\n",
    "x = np.array([[1], [2], [3], [4], [5]])\n",
    "y = np.array([[10], [7], [5], [3], [1]])\n",
    "\n",
    "model = LinearRegression()\n",
    "model.fit(x, y)\n",
    "\n",
    "preds = model.predict(x)\n",
    "\n",
    "plt.scatter(x, y, marker='o', color='black')\n",
    "plt.plot(x, preds, color='blue', linewidth=3);\n",
    "\n",
    "# The parameters of the model\n",
    "print(f\"Slope and y-intercept: W={model.coef_.item()} b={model.intercept_.item()}\")\n",
    "# The mean squared error\n",
    "print(\"Mean squared error: %.2f\" % mean_squared_error(y, preds))\n",
    "# Proportion of Y that is predictable with X: 1 is perfect prediction\n",
    "print(\"R squared score: %.2f\" % r2_score(y, preds))\n",
    "\n",
    "plt.show()"
   ]
  },
  {
   "cell_type": "code",
   "execution_count": 47,
   "metadata": {},
   "outputs": [
    {
     "name": "stdout",
     "output_type": "stream",
     "text": [
      "[11.8]\n"
     ]
    }
   ],
   "source": [
    "# Linear Regression is not an iterative process (i.e. there is no learning occurring)\n",
    "\n",
    "# Lets calculate the coeffecient and the intercept ourselves\n",
    "n = len(x)\n",
    "b = (sum(y)*sum(np.pow(x, 2)) - sum(x)*sum(x*y)) / (n*sum(np.pow(x,2)) - np.pow(sum(x), 2))\n",
    "w = (n*sum(x*y) - sum(x)*sum(y)) / (n*sum(np.pow(x, 2)) - np.pow(sum(x), 2))\n",
    "\n",
    "print(f'Coeffecients {}')"
   ]
  },
  {
   "cell_type": "markdown",
   "metadata": {},
   "source": [
    "### Logisitc Regression\n",
    "\n"
   ]
  },
  {
   "cell_type": "code",
   "execution_count": 46,
   "metadata": {},
   "outputs": [],
   "source": [
    "from sklearn.linear_model import LogisticRegression\n"
   ]
  },
  {
   "cell_type": "code",
   "execution_count": null,
   "metadata": {},
   "outputs": [],
   "source": []
  }
 ],
 "metadata": {
  "kernelspec": {
   "display_name": "Workshop",
   "language": "python",
   "name": "python3"
  },
  "language_info": {
   "codemirror_mode": {
    "name": "ipython",
    "version": 3
   },
   "file_extension": ".py",
   "mimetype": "text/x-python",
   "name": "python",
   "nbconvert_exporter": "python",
   "pygments_lexer": "ipython3",
   "version": "3.10.6"
  }
 },
 "nbformat": 4,
 "nbformat_minor": 2
}
