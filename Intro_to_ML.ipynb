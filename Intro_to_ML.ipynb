{
 "cells": [
  {
   "cell_type": "code",
   "execution_count": null,
   "metadata": {},
   "outputs": [],
   "source": [
    "# Intro\n",
    "\n",
    "# Statistical Background\n",
    "\n",
    "# Supervised Learning\n",
    "\n",
    "# Linear/Logistic Regression\n",
    "\n",
    "# Decision Tree / Random Forest Classification\n",
    "#   Train-Test\n",
    "#   Hyperparameter tuning\n",
    "#   Overfitting/Underfitting\n",
    "#   Feature Importance\n",
    "\n",
    "# Metrics\n",
    "#   Accuracy, Recall, Precision, F1-Score\n",
    "#   Confusion Matrix\n",
    "# ROC Curve?\n",
    "\n",
    "# Imbalanced Datasets\n",
    "\n",
    "# Data Cleaning\n",
    "#   Imputation\n",
    "#   Missing Values\n",
    "\n",
    "# Feature Analysis\n",
    "#   Categorical vs Numerical Features\n",
    "#   Encodings\n",
    "#   PCA\n",
    "\n",
    "# SVM ???\n",
    "\n",
    "# Cross-validation\n",
    "#   Different FOLDS\n",
    "\n",
    "# Unsupervised Learnning\n",
    "# K-Means \n",
    "\n",
    "# Pipelining (Scikit class)"
   ]
  },
  {
   "cell_type": "code",
   "execution_count": null,
   "metadata": {},
   "outputs": [],
   "source": [
    "# Notes\n",
    "\n"
   ]
  },
  {
   "cell_type": "code",
   "execution_count": 155,
   "metadata": {},
   "outputs": [],
   "source": [
    "import numpy as np\n",
    "import matplotlib.pyplot as plt\n",
    "from scipy.stats import norm\n"
   ]
  },
  {
   "cell_type": "markdown",
   "metadata": {},
   "source": [
    "## Statistical Background\n"
   ]
  },
  {
   "cell_type": "markdown",
   "metadata": {},
   "source": [
    "### Types of Data\n",
    "- Numerical \n",
    "- Categorical"
   ]
  },
  {
   "cell_type": "code",
   "execution_count": null,
   "metadata": {},
   "outputs": [],
   "source": [
    "# numerical\n",
    "a = [1, 2, 3, 4, 5] # discrete\n",
    "b = [0.001, 0.002, 0.003, 0.004, 0.005] # continuous\n",
    "\n",
    "# categorical\n",
    "c = ['a', 'b', 'c', 'd', 'e'] # ordinal\n",
    "d = ['cat', 'dog', 'bird', 'fish', 'lizard'] # nominal"
   ]
  },
  {
   "cell_type": "markdown",
   "metadata": {},
   "source": [
    "### Sampling\n",
    "**Sample Space**: The set of all possible outcomes of an experiment.\n"
   ]
  },
  {
   "cell_type": "code",
   "execution_count": 4,
   "metadata": {},
   "outputs": [],
   "source": [
    "# create a random number generator\n",
    "rng = np.random.default_rng(seed=42)"
   ]
  },
  {
   "cell_type": "code",
   "execution_count": 14,
   "metadata": {},
   "outputs": [
    {
     "name": "stdout",
     "output_type": "stream",
     "text": [
      "['tails']\n",
      "[5 5]\n"
     ]
    }
   ],
   "source": [
    "# consider a coin flip\n",
    "result_c = rng.choice(['heads', 'tails'], size=1) # what is the sample space?\n",
    "\n",
    "# consider a die roll\n",
    "result_d = rng.choice([1, 2, 3, 4, 5, 6], size=2) # what is the sample space?\n",
    "\n",
    "print(result_c)\n",
    "print(result_d)\n"
   ]
  },
  {
   "cell_type": "markdown",
   "metadata": {},
   "source": [
    "### Probability Distributions (Distributions)\n",
    "\n",
    "\"A distribution is a function that gives the probabilities of occurrence of possible outcomes for an experiment.\"\n",
    "\n",
    "**Examples**:\n",
    "- Uniform Distribution\n",
    "- Normal Distribution\n",
    "- Binomial Distribution\n",
    "- etc.\n",
    "\n"
   ]
  },
  {
   "cell_type": "markdown",
   "metadata": {},
   "source": [
    "**Normal Distribution**\n",
    "\n",
    "<img src=\"./extra/imgs/normal_dist.png\" alt=\"normal distribution\" width=\"700\" height=\"400\"/>\n"
   ]
  },
  {
   "cell_type": "markdown",
   "metadata": {},
   "source": [
    "**Uniform Distribution**\n",
    "\n",
    "<img src=\"./extra/imgs/uniform_dist.png\" alt=\"uniform distribution\" width=\"650\" height=\"400\"/>\n"
   ]
  },
  {
   "cell_type": "code",
   "execution_count": 220,
   "metadata": {},
   "outputs": [
    {
     "data": {
      "image/png": "[encoded data removed]",
      "text/plain": [
       "<Figure size 640x480 with 1 Axes>"
      ]
     },
     "metadata": {},
     "output_type": "display_data"
    }
   ],
   "source": [
    "# consider a coin flip again\n",
    "\n",
    "result_c = rng.choice(['heads', 'tails'], size=100) \n",
    "\n",
    "head_count = np.count_nonzero(result_c == 'heads')\n",
    "tail_count = np.count_nonzero(result_c == 'tails')\n",
    "\n",
    "plt.bar(x=['heads', 'tails'], height=[head_count, tail_count], width=0.5)\n",
    "\n",
    "plt.show()\n",
    "# what type of distribution are we sampling from?"
   ]
  },
  {
   "cell_type": "markdown",
   "metadata": {},
   "source": [
    "### Normalization"
   ]
  },
  {
   "cell_type": "code",
   "execution_count": null,
   "metadata": {},
   "outputs": [],
   "source": []
  }
 ],
 "metadata": {
  "kernelspec": {
   "display_name": "Workshop",
   "language": "python",
   "name": "python3"
  },
  "language_info": {
   "codemirror_mode": {
    "name": "ipython",
    "version": 3
   },
   "file_extension": ".py",
   "mimetype": "text/x-python",
   "name": "python",
   "nbconvert_exporter": "python",
   "pygments_lexer": "ipython3",
   "version": "3.10.6"
  }
 },
 "nbformat": 4,
 "nbformat_minor": 2
}
