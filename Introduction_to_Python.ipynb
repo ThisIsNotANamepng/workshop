{
 "cells": [
  {
   "cell_type": "markdown",
   "metadata": {},
   "source": [
    "# Python"
   ]
  },
  {
   "cell_type": "markdown",
   "metadata": {},
   "source": [
    "What is Python used for?\n",
    "- Data Science, Machine Learning, Web Development, Prototyping, Scientific Programming, Scripting, etc.\n",
    "\n",
    "Why use Python?\n",
    "- Python is a high-level language: it is easy to write and it is easy to read.\n",
    "- Resources for learning Python are all over the web."
   ]
  },
  {
   "cell_type": "code",
   "execution_count": null,
   "metadata": {},
   "outputs": [],
   "source": [
    "!python -V # run terminal commands by prefacing with '!'"
   ]
  },
  {
   "cell_type": "code",
   "execution_count": null,
   "metadata": {},
   "outputs": [],
   "source": [
    "# Install the necessary packages\n",
    "%pip install numpy pandas matplotlib"
   ]
  },
  {
   "cell_type": "code",
   "execution_count": null,
   "metadata": {},
   "outputs": [],
   "source": [
    "# Data Types\n",
    "a = \"Hello\" # string\n",
    "b = 1 # integer\n",
    "c = 0.1 # float\n",
    "\n",
    "d = [1, 2, 'c'] # list\n",
    "e = (1, 2, 'c') # tuple\n",
    "f = {'a': 1, 'b': 2} # dictionary\n",
    "\n",
    "g = True # bool\n",
    "i = None # null\n",
    "\n",
    "j = b'1234' # binary"
   ]
  },
  {
   "cell_type": "markdown",
   "metadata": {},
   "source": [
    "### Strings\n",
    "\n",
    "[Python Docs for Strings](https://docs.python.org/3/library/stdtypes.html#text-sequence-type-str)"
   ]
  },
  {
   "cell_type": "code",
   "execution_count": 6,
   "metadata": {},
   "outputs": [
    {
     "name": "stdout",
     "output_type": "stream",
     "text": [
      "This is a string. Pretty neat.\n",
      "This is a string 2.\n",
      "'Really?', you ask.\n",
      "Y\n",
      "I guess thats just\n",
      "how python works...\n"
     ]
    }
   ],
   "source": [
    "# in Java: String greeting = \"Hello\";\n",
    "\n",
    "s1 = \"This is a string. Pretty neat.\"\n",
    "\n",
    "s2 = 'This is a string 2.'\n",
    "\n",
    "s3 = \"'Really?', you ask.\"\n",
    "\n",
    "s4 = 'Y'\n",
    "\n",
    "s5 = '''I guess thats just\n",
    "how python works...'''\n",
    "\n",
    "print(s1)\n",
    "print(s2)\n",
    "print(s3)\n",
    "print(s4)\n",
    "print(s5)"
   ]
  },
  {
   "cell_type": "code",
   "execution_count": 7,
   "metadata": {},
   "outputs": [
    {
     "name": "stdout",
     "output_type": "stream",
     "text": [
      "Type of s1: <class 'str'>\n",
      "Type of s2: <class 'str'>\n",
      "Type of s3: <class 'str'>\n",
      "Type of s4: <class 'str'>\n",
      "Type of s5: <class 'str'>\n"
     ]
    }
   ],
   "source": [
    "print(f'Type of s1: {type(s1)}')\n",
    "print(f'Type of s2: {type(s2)}')\n",
    "print(f'Type of s3: {type(s3)}')\n",
    "print(f'Type of s4: {type(s4)}')\n",
    "print(f'Type of s5: {type(s5)}')"
   ]
  },
  {
   "cell_type": "code",
   "execution_count": 60,
   "metadata": {},
   "outputs": [
    {
     "name": "stdout",
     "output_type": "stream",
     "text": [
      "<class 'str'>\n",
      "<class 'str'>\n"
     ]
    }
   ],
   "source": [
    "a = \"hi\"\n",
    "b = a.__class__\n",
    "\n",
    "print(f'{type(a)}')\n",
    "print(f'{b}')"
   ]
  },
  {
   "cell_type": "code",
   "execution_count": 61,
   "metadata": {},
   "outputs": [
    {
     "name": "stdout",
     "output_type": "stream",
     "text": [
      "<class 'type'>\n",
      "<class 'type'>\n"
     ]
    }
   ],
   "source": [
    "# Python (Advanced aside)\n",
    "\n",
    "print(f\"{type(type)}\")\n",
    "\n",
    "print(f\"{type.__class__}\") #  \n",
    "\n",
    "# type() returns the class of the object passed. As we passed a class to type with type(type) we get type returned\n",
    "# i.e. type is a type (class) itself"
   ]
  },
  {
   "cell_type": "code",
   "execution_count": 8,
   "metadata": {},
   "outputs": [
    {
     "name": "stdout",
     "output_type": "stream",
     "text": [
      "This is a string. This is another.\n",
      "This is a string. This is another.\n",
      "This is a string. This is another.\n",
      "This is a string. This is another.\n",
      "This is a string. This is another.\n"
     ]
    }
   ],
   "source": [
    "# in Java: System.out.println(\"The length of the txt string is: \" + txt.length());\n",
    "\n",
    "a_str = \"This is a string.\"\n",
    "an_str = \"This is another.\"\n",
    "\n",
    "print(a_str, an_str)\n",
    "print(a_str + \" \" + an_str)\n",
    "print(\"{} {}\".format(a_str, an_str))\n",
    "print(\"%s %s\" % (a_str, an_str))\n",
    "print(f'{a_str} {an_str}')"
   ]
  },
  {
   "cell_type": "code",
   "execution_count": 13,
   "metadata": {},
   "outputs": [
    {
     "data": {
      "text/plain": [
       "'o'"
      ]
     },
     "execution_count": 13,
     "metadata": {},
     "output_type": "execute_result"
    }
   ],
   "source": [
    "#indexing\n",
    "s = \"Hello\"\n",
    "s[0]"
   ]
  },
  {
   "cell_type": "code",
   "execution_count": null,
   "metadata": {},
   "outputs": [],
   "source": [
    "# but...\n",
    "s[0] = \"Y\""
   ]
  },
  {
   "cell_type": "code",
   "execution_count": 16,
   "metadata": {},
   "outputs": [
    {
     "data": {
      "text/plain": [
       "6"
      ]
     },
     "execution_count": 16,
     "metadata": {},
     "output_type": "execute_result"
    }
   ],
   "source": [
    "# length\n",
    "s = \"Hello\"\n",
    "len(s)"
   ]
  },
  {
   "cell_type": "code",
   "execution_count": 17,
   "metadata": {},
   "outputs": [
    {
     "data": {
      "text/plain": [
       "['Welcome', ' My name is Python']"
      ]
     },
     "execution_count": 17,
     "metadata": {},
     "output_type": "execute_result"
    }
   ],
   "source": [
    "# splitting\n",
    "\n",
    "s = \"Welcome. My name is Python\"\n",
    "strs = s.split(\".\")\n",
    "strs"
   ]
  },
  {
   "cell_type": "code",
   "execution_count": 18,
   "metadata": {},
   "outputs": [
    {
     "data": {
      "text/plain": [
       "True"
      ]
     },
     "execution_count": 18,
     "metadata": {},
     "output_type": "execute_result"
    }
   ],
   "source": [
    "# substrings\n",
    "\"Welcome\" in s"
   ]
  },
  {
   "cell_type": "code",
   "execution_count": 19,
   "metadata": {},
   "outputs": [
    {
     "name": "stdout",
     "output_type": "stream",
     "text": [
      "lowercase:                welcome\n",
      "UPPERCASE:                WELCOME\n",
      "Count of W's:             1\n",
      "Count of w's:             0\n",
      "Replace 'elco' with 'ak': Wake\n"
     ]
    }
   ],
   "source": [
    "# other string methods\n",
    "s = \"Welcome\"\n",
    "print(f\"lowercase:                {s.lower()}\")\n",
    "print(f\"UPPERCASE:                {s.upper()}\")\n",
    "print(f\"Count of W's:             {s.count('W')}\")\n",
    "print(f\"Count of w's:             {s.count('w')}\")\n",
    "print(f\"Replace 'elco' with 'ak': {s.replace('elcom', 'ak')}\")"
   ]
  },
  {
   "cell_type": "markdown",
   "metadata": {},
   "source": [
    "Check out the python docs for other [string methods](https://docs.python.org/3/library/stdtypes.html#string-methods) "
   ]
  },
  {
   "cell_type": "markdown",
   "metadata": {},
   "source": [
    "#### Mini Challenge\n",
    "\n",
    "---\n",
    "\n",
    "1. Create a string with the value \"Welcome one. Welcome all!\" (this is done for you).\n",
    "<br/><br/>\n",
    "2. Split the string by the `.` character and assign the result to `list_of_strs`. \n",
    "<br/><br/>\n",
    "3. Join the strings back together using `\"...\".join(list_of_strs)`\n",
    "<br/><br/>\n",
    "4. Finally, replace 'Welcome' with 'WELCOME'.\n",
    "<br/><br/>\n",
    "5. BONUS: Is \"welcome\" a substring of your new string?\n",
    "<br/><br/>\n",
    "7. BONUS: What type is `list_of_strs`?\n",
    "<br/><br/>\n",
    "6. BONUS: Why were both `Welcome`s changed? Can you change the first one only? \n",
    "\n"
   ]
  },
  {
   "cell_type": "code",
   "execution_count": null,
   "metadata": {},
   "outputs": [],
   "source": [
    "s = \"Welcome one. Welcome all!\""
   ]
  },
  {
   "cell_type": "code",
   "execution_count": 106,
   "metadata": {},
   "outputs": [
    {
     "name": "stdout",
     "output_type": "stream",
     "text": [
      "WELCOME one... WELCOME all!\n",
      "False\n",
      "WELCOME one... Welcome all!\n"
     ]
    }
   ],
   "source": [
    "# Answer\n",
    "\n",
    "s = \"Welcome one. Welcome all!\"\n",
    "list_of_strs = s.split(\".\")\n",
    "new_s = \"...\".join(list_of_strs)\n",
    "newer_s = new_s.replace(\"Welcome\", \"WELCOME\")\n",
    "print(newer_s)\n",
    "print(\"welcome\" in newer_s)\n",
    "print(new_s.replace('Welcome', 'WELCOME', 1))"
   ]
  },
  {
   "cell_type": "markdown",
   "metadata": {},
   "source": [
    "### Ints and Floats (Numbers)"
   ]
  },
  {
   "cell_type": "code",
   "execution_count": null,
   "metadata": {},
   "outputs": [],
   "source": [
    "a = 5\n",
    "b = -2\n",
    "\n",
    "c = -34.127647325648245823542\n",
    "d = 3.14159\n",
    "e = 2.71828\n",
    "\n",
    "print(type(a))\n",
    "print(type(c))\n",
    "print(type(d))"
   ]
  },
  {
   "cell_type": "markdown",
   "metadata": {},
   "source": [
    "### Math and Operations\n",
    "\n"
   ]
  },
  {
   "cell_type": "code",
   "execution_count": null,
   "metadata": {},
   "outputs": [],
   "source": [
    "a = 5\n",
    "b = 10\n",
    "c = 9\n",
    "\n",
    "print(a + b)\n",
    "print(a - c)\n",
    "print(a * b)\n",
    "print(b / c)\n",
    "print(c % a)\n",
    "print(c ** a)\n",
    "print(b // c)"
   ]
  },
  {
   "cell_type": "code",
   "execution_count": null,
   "metadata": {},
   "outputs": [],
   "source": [
    "print(a * b + c)\n",
    "print(37 - a)\n",
    "\n",
    "print((a*c) / b)\n",
    "\n",
    "print((((a*b) / (2) - 2) * a) * ((b / (c + 1))))"
   ]
  },
  {
   "cell_type": "code",
   "execution_count": null,
   "metadata": {},
   "outputs": [],
   "source": [
    "a = 10\n",
    "\n",
    "print(a)\n",
    "\n",
    "a += 1 # a = a + 1\n",
    "\n",
    "print(a)\n",
    "\n",
    "a -= 1 # a = a - 1\n",
    "\n",
    "print(a)\n",
    "\n",
    "a *= 3 # a = a * 3\n",
    "\n",
    "print(a)\n",
    "\n",
    "a %= 4 # a = a & 2\n",
    "\n",
    "print(a)\n",
    "\n",
    "a **= 3 # a = a ** 2\n",
    "\n",
    "print(a)\n",
    "\n",
    "\n",
    "a = 1 / 10\n",
    "\n",
    "print(f\"{a:.5f}\")\n",
    "\n",
    "print(f\"{a:.25f}\")\n",
    "\n",
    "print(f\"{a:.250f}\") # Don't increase this by too much, eventually will crash your computer"
   ]
  },
  {
   "cell_type": "code",
   "execution_count": null,
   "metadata": {},
   "outputs": [],
   "source": [
    "# Formatting is fun\n",
    "\n",
    "print(5 + 7)\n",
    "print(5+7)\n",
    "print(5+ 7)\n",
    "print(   5 +7 )\n",
    "print(                5+                               7)\n",
    "print(5                                            +                                    7)\n",
    "print      (5+7)"
   ]
  },
  {
   "cell_type": "markdown",
   "metadata": {},
   "source": [
    "### List, Tuple, Range, and String again (Sequence)"
   ]
  },
  {
   "cell_type": "code",
   "execution_count": 108,
   "metadata": {},
   "outputs": [],
   "source": [
    "# List\n",
    "a = [1, 2, 3, 4]\n",
    "b = [\"Hi\", \"My\", \"Name\", \"Is\"]\n",
    "c = [0.1, \"Hi\", 3]"
   ]
  },
  {
   "cell_type": "code",
   "execution_count": 83,
   "metadata": {},
   "outputs": [
    {
     "name": "stdout",
     "output_type": "stream",
     "text": [
      "a[0]:  1\n",
      "a[-1]: 4\n"
     ]
    }
   ],
   "source": [
    "# Indexing\n",
    "print(f\"a[0]:  {a[0]}\")\n",
    "print(f\"a[-1]: {a[-1]}\")"
   ]
  },
  {
   "cell_type": "code",
   "execution_count": null,
   "metadata": {},
   "outputs": [],
   "source": [
    "# Slicing\n",
    "print(f\"b[1:2]:  {b[1:3]}\")\n",
    "print(f\"b[:3]:   {b[:3]}\")\n",
    "print(f\"b[1:]:   {b[1:]}\")\n",
    "print(f\"b[1:10]: {b[0:10]}\")\n",
    "print(f\"b[-2:]:  {b[-2:]}\")"
   ]
  },
  {
   "cell_type": "code",
   "execution_count": 111,
   "metadata": {},
   "outputs": [],
   "source": [
    "# Tuples\n",
    "a = (1, 2, 3)\n",
    "b = (\"Hi\", \"My\", \"Name\", \"Is\")\n",
    "c = (\"Hi\", 1, 0.1)"
   ]
  },
  {
   "cell_type": "code",
   "execution_count": 116,
   "metadata": {},
   "outputs": [
    {
     "name": "stdout",
     "output_type": "stream",
     "text": [
      "a[0]:  1\n",
      "a[-1]: 3\n"
     ]
    }
   ],
   "source": [
    "# indexing\n",
    "print(f\"a[0]:  {a[0]}\")\n",
    "print(f\"a[-1]: {a[-1]}\")"
   ]
  },
  {
   "cell_type": "code",
   "execution_count": 20,
   "metadata": {},
   "outputs": [
    {
     "name": "stdout",
     "output_type": "stream",
     "text": [
      "a[0]: 0\n",
      "a[2]: 2\n",
      "a[1:3]: range(1, 3)\n",
      "a[-2:]:  range(2, 4)\n",
      "\n",
      "b[2]: 4\n"
     ]
    }
   ],
   "source": [
    "# Range\n",
    "a = range(4)\n",
    "print(f\"a[0]: {a[0]}\")\n",
    "print(f\"a[2]: {a[2]}\")\n",
    "print(f\"a[1:3]: {a[1:3]}\")\n",
    "print(f\"a[-2:]:  {a[-2:]}\")\n",
    "\n",
    "print()\n",
    "b = range(0, 7, 2)\n",
    "print(f\"b[2]: {b[2]}\") # but why?"
   ]
  },
  {
   "cell_type": "code",
   "execution_count": 145,
   "metadata": {},
   "outputs": [
    {
     "name": "stdout",
     "output_type": "stream",
     "text": [
      "b[1:2]:  range(2, 6, 2)\n",
      "b[:3]:   range(0, 6, 2)\n",
      "b[1:]:   range(2, 8, 2)\n",
      "b[1:10]: range(0, 8, 2)\n",
      "b[-2:]:  range(4, 8, 2)\n"
     ]
    }
   ],
   "source": [
    "#slicing\n",
    "print(f\"b[1:2]:  {b[1:3]}\")\n",
    "print(f\"b[:3]:   {b[:3]}\")\n",
    "print(f\"b[1:]:   {b[1:]}\")\n",
    "print(f\"b[1:10]: {b[0:10]}\")\n",
    "print(f\"b[-2:]:  {b[-2:]}\")"
   ]
  },
  {
   "cell_type": "code",
   "execution_count": null,
   "metadata": {},
   "outputs": [],
   "source": [
    "# common operations\n",
    "a = [1, \"hi\", 0.1]\n",
    "\n",
    "print(1 in a)\n",
    "print(1 not in a)\n",
    "print(2 in a)\n",
    "print(2 not in a)"
   ]
  },
  {
   "cell_type": "code",
   "execution_count": 180,
   "metadata": {},
   "outputs": [
    {
     "name": "stdout",
     "output_type": "stream",
     "text": [
      "[1, 2, 3, 4, 5, 6]\n",
      "[4, 5, 6, 1, 2, 3]\n",
      "[1, 2, 3, 1, 2, 3, 1, 2, 3]\n"
     ]
    }
   ],
   "source": [
    "a = [1, 2, 3]\n",
    "b = [4, 5, 6]\n",
    "\n",
    "print(a + b)\n",
    "print(b + a)\n",
    "\n",
    "print(a * 3)"
   ]
  },
  {
   "cell_type": "code",
   "execution_count": 186,
   "metadata": {},
   "outputs": [
    {
     "name": "stdout",
     "output_type": "stream",
     "text": [
      "4\n",
      "1\n",
      "3\n",
      "3\n",
      "2\n"
     ]
    }
   ],
   "source": [
    "a = [1, 2, 3, 2]\n",
    "\n",
    "print(len(a))\n",
    "print(min(a))\n",
    "print(max(a))\n",
    "print(a.index(2, 2))\n",
    "print(a.count(2))\n"
   ]
  },
  {
   "cell_type": "code",
   "execution_count": 196,
   "metadata": {},
   "outputs": [
    {
     "name": "stdout",
     "output_type": "stream",
     "text": [
      "a[3]: l\n",
      "a[-2]: o\n"
     ]
    }
   ],
   "source": [
    "a = \"Hello\"\n",
    "\n",
    "# indexing\n",
    "print(f\"a[3]: {a[2]}\")\n",
    "print(f\"a[-2]: {a[-1]}\")"
   ]
  },
  {
   "cell_type": "code",
   "execution_count": 197,
   "metadata": {},
   "outputs": [
    {
     "name": "stdout",
     "output_type": "stream",
     "text": [
      "b[1:2]:  or\n",
      "b[:3]:   Wor\n",
      "b[1:]:   orld\n",
      "b[1:10]: World\n",
      "b[-2:]:  ld\n"
     ]
    }
   ],
   "source": [
    "b = \"World\"\n",
    "\n",
    "print(f\"b[1:2]:  {b[1:3]}\")\n",
    "print(f\"b[:3]:   {b[:3]}\")\n",
    "print(f\"b[1:]:   {b[1:]}\")\n",
    "print(f\"b[1:10]: {b[0:10]}\")\n",
    "print(f\"b[-2:]:  {b[-2:]}\")"
   ]
  },
  {
   "cell_type": "markdown",
   "metadata": {},
   "source": [
    "So what's the difference? We'll find out soon enough...\n",
    "\n",
    "For now, lets talk about loops"
   ]
  },
  {
   "cell_type": "code",
   "execution_count": 212,
   "metadata": {},
   "outputs": [
    {
     "name": "stdout",
     "output_type": "stream",
     "text": [
      "Tuples? True\n",
      "Lists? True\n",
      "Ranges? True\n",
      "Strings? True\n",
      "Integers? False\n"
     ]
    }
   ],
   "source": [
    "# You may loop over any object which implements the __iter__ method\n",
    "\n",
    "# Lets check\n",
    "a = (0,1)\n",
    "b = [0, 1]\n",
    "c = range(0,10)\n",
    "d = \"Hello\"\n",
    "e = 123\n",
    "\n",
    "print(f\"Tuples? {hasattr(a, '__iter__')}\")\n",
    "print(f\"Lists? {hasattr(b, '__iter__')}\")\n",
    "print(f\"Ranges? {hasattr(c, '__iter__')}\")\n",
    "print(f\"Strings? {hasattr(d, '__iter__')}\")\n",
    "print(f\"Integers? {hasattr(e, '__iter__')}\")"
   ]
  },
  {
   "cell_type": "code",
   "execution_count": 22,
   "metadata": {},
   "outputs": [
    {
     "data": {
      "text/plain": [
       "<list_iterator at 0x242fe30d2a0>"
      ]
     },
     "execution_count": 22,
     "metadata": {},
     "output_type": "execute_result"
    }
   ],
   "source": [
    "# Magic methods..?\n",
    "a = [0, 1, 2]\n",
    "\n",
    "a.__iter__()"
   ]
  },
  {
   "cell_type": "code",
   "execution_count": null,
   "metadata": {},
   "outputs": [],
   "source": [
    "# talk about zip\n",
    "# talk about list comprehension"
   ]
  },
  {
   "cell_type": "markdown",
   "metadata": {},
   "source": [
    "### Immutable vs Mutable"
   ]
  },
  {
   "cell_type": "code",
   "execution_count": null,
   "metadata": {},
   "outputs": [],
   "source": [
    "# int\n",
    "\n",
    "a = 1\n",
    "b = a\n",
    "a = 3\n",
    "b"
   ]
  },
  {
   "cell_type": "code",
   "execution_count": null,
   "metadata": {},
   "outputs": [],
   "source": [
    "# list\n",
    "\n",
    "a = [1, 2, 3]\n",
    "b = a\n",
    "a[0] = 4\n",
    "b"
   ]
  },
  {
   "cell_type": "code",
   "execution_count": null,
   "metadata": {},
   "outputs": [],
   "source": [
    "a = \"Hello\"\n",
    "b = a\n",
    "a[0]"
   ]
  },
  {
   "cell_type": "code",
   "execution_count": null,
   "metadata": {},
   "outputs": [],
   "source": [
    "# what does slicing return?"
   ]
  },
  {
   "cell_type": "markdown",
   "metadata": {},
   "source": [
    "### Dictionary and Set"
   ]
  },
  {
   "cell_type": "code",
   "execution_count": null,
   "metadata": {},
   "outputs": [],
   "source": [
    "    "
   ]
  },
  {
   "cell_type": "markdown",
   "metadata": {},
   "source": [
    "### Boolean Logic and If-Else"
   ]
  },
  {
   "cell_type": "code",
   "execution_count": null,
   "metadata": {},
   "outputs": [],
   "source": [
    "# Unlike java, you need to capitalize True and False when initializing Booleans\n",
    "\n",
    "is_blonde = True\n",
    "if is_blonde:\n",
    "    print(\"This person is blonde\")\n",
    "else:\n",
    "    print(\"This person is not blonde\")"
   ]
  },
  {
   "cell_type": "code",
   "execution_count": null,
   "metadata": {},
   "outputs": [],
   "source": [
    "## python \"and\" is similar to java \"&&\"\" logical operator\n",
    "\n",
    "is_blonde = True\n",
    "is_tall = True\n",
    "\n",
    "if is_blonde and is_tall:\n",
    "    print(\"This person is blonde and tall\")\n",
    "else:\n",
    "    print(\"This person is either not blonde or not tall\")\n"
   ]
  },
  {
   "cell_type": "code",
   "execution_count": null,
   "metadata": {},
   "outputs": [],
   "source": [
    "## python \"or\" is similar to java \"||\"\" logical operator\n",
    "\n",
    "is_blonde = True\n",
    "is_tall = True\n",
    "\n",
    "if is_blonde or is_tall:\n",
    "    print(\"This person is blonde or is tall\")\n",
    "else:\n",
    "    print(\"This person is not blonde and not tall\")"
   ]
  },
  {
   "cell_type": "code",
   "execution_count": null,
   "metadata": {},
   "outputs": [],
   "source": [
    "## python \"not\" operator returns True if operand is False\n",
    "\n",
    "is_blonde = True\n",
    "is_tall = True\n",
    "\n",
    "if is_blonde and is_tall:\n",
    "    print(\"This person is blonde and tall\")\n",
    "elif is_blonde and not is_tall:\n",
    "    print(\"This person is blonde and not tall\")\n",
    "elif not is_blonde and is_tall:\n",
    "    print(\"This person is not blonde and is tall\")\n",
    "else:\n",
    "    print(\"This person is not blonde and not tall\")\n"
   ]
  },
  {
   "cell_type": "code",
   "execution_count": null,
   "metadata": {},
   "outputs": [],
   "source": [
    "## Mini Challenge ! :)\n",
    "\n",
    "# Write a program with two boolean values of your choice\n",
    "# where a description is printed for each possible boolean combination "
   ]
  },
  {
   "cell_type": "markdown",
   "metadata": {},
   "source": [
    "### Functions\n"
   ]
  },
  {
   "cell_type": "code",
   "execution_count": null,
   "metadata": {},
   "outputs": [],
   "source": []
  },
  {
   "cell_type": "markdown",
   "metadata": {},
   "source": []
  },
  {
   "cell_type": "markdown",
   "metadata": {},
   "source": [
    "### Numpy "
   ]
  },
  {
   "cell_type": "code",
   "execution_count": null,
   "metadata": {},
   "outputs": [],
   "source": []
  },
  {
   "cell_type": "markdown",
   "metadata": {},
   "source": [
    "### Pandas"
   ]
  },
  {
   "cell_type": "code",
   "execution_count": null,
   "metadata": {},
   "outputs": [],
   "source": []
  }
 ],
 "metadata": {
  "kernelspec": {
   "display_name": "Workshop",
   "language": "python",
   "name": "python3"
  },
  "language_info": {
   "codemirror_mode": {
    "name": "ipython",
    "version": 3
   },
   "file_extension": ".py",
   "mimetype": "text/x-python",
   "name": "python",
   "nbconvert_exporter": "python",
   "pygments_lexer": "ipython3",
   "version": "3.10.6"
  }
 },
 "nbformat": 4,
 "nbformat_minor": 2
}
