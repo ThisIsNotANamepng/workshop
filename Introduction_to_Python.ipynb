{
 "cells": [
  {
   "cell_type": "markdown",
   "metadata": {},
   "source": [
    "# Python"
   ]
  },
  {
   "cell_type": "code",
   "execution_count": null,
   "metadata": {},
   "outputs": [],
   "source": [
    "!python -V # run terminal commands by prefacing with '!'"
   ]
  },
  {
   "cell_type": "code",
   "execution_count": null,
   "metadata": {},
   "outputs": [],
   "source": [
    "# Install the necessary packages\n",
    "%pip install numpy pandas matplotlib"
   ]
  },
  {
   "cell_type": "code",
   "execution_count": null,
   "metadata": {},
   "outputs": [],
   "source": [
    "# Data Types\n",
    "a = \"Hello\" # string\n",
    "b = 1 # integer\n",
    "c = 0.1 # float\n",
    "\n",
    "d = [1, 2, 'c'] # list\n",
    "e = (1, 2, 'c') # tuple\n",
    "f = {'a': 1, 'b': 2} # dictionary\n",
    "\n",
    "g = True # bool\n",
    "i = None # null\n",
    "\n",
    "j = b'1234' # binary"
   ]
  },
  {
   "cell_type": "markdown",
   "metadata": {},
   "source": [
    "### Strings\n",
    "\n",
    "[Python Docs for Strings](https://docs.python.org/3/library/stdtypes.html#text-sequence-type-str)"
   ]
  },
  {
   "cell_type": "code",
   "execution_count": null,
   "metadata": {},
   "outputs": [],
   "source": [
    "# in Java: String greeting = \"Hello\";\n",
    "\n",
    "s1 = \"This is a string. Pretty neat.\"\n",
    "\n",
    "s2 = 'This is a string too.'\n",
    "\n",
    "s3 = \"'Really?', you ask.\"\n",
    "\n",
    "s4 = 'Y'\n",
    "\n",
    "s5 = '''I guess thats just\n",
    "how python works...'''\n",
    "\n",
    "print(s1)\n",
    "print(s2)\n",
    "print(s3)\n",
    "print(s4)\n",
    "print(s5)"
   ]
  },
  {
   "cell_type": "code",
   "execution_count": null,
   "metadata": {},
   "outputs": [],
   "source": [
    "print(f'Type of s1: {type(s1)}')\n",
    "print(f'Type of s2: {type(s2)}')\n",
    "print(f'Type of s3: {type(s3)}')\n",
    "print(f'Type of s4: {type(s4)}')\n",
    "print(f'Type of s5: {type(s5)}')"
   ]
  },
  {
   "cell_type": "code",
   "execution_count": 60,
   "metadata": {},
   "outputs": [
    {
     "name": "stdout",
     "output_type": "stream",
     "text": [
      "<class 'str'>\n",
      "<class 'str'>\n"
     ]
    }
   ],
   "source": [
    "a = \"hi\"\n",
    "b = a.__class__\n",
    "\n",
    "print(f'{type(a)}')\n",
    "print(f'{b}')"
   ]
  },
  {
   "cell_type": "code",
   "execution_count": 61,
   "metadata": {},
   "outputs": [
    {
     "name": "stdout",
     "output_type": "stream",
     "text": [
      "<class 'type'>\n",
      "<class 'type'>\n"
     ]
    }
   ],
   "source": [
    "# Python is quirky (Advanced aside)\n",
    "\n",
    "print(f\"{type(type)}\")\n",
    "\n",
    "print(f\"{type.__class__}\")\n",
    "\n",
    "# type() returns the class of the object passed. As we passed a class to type with type(type) we get type returned\n",
    "# i.e. type is a type (class) itself"
   ]
  },
  {
   "cell_type": "code",
   "execution_count": null,
   "metadata": {},
   "outputs": [],
   "source": [
    "# in Java: System.out.println(\"The length of the txt string is: \" + txt.length());\n",
    "\n",
    "a_str = \"This is a string.\"\n",
    "an_str = \"This is another.\"\n",
    "\n",
    "print(a_str, an_str)\n",
    "print(a_str + \" \" + an_str)\n",
    "print(\"{} {}\".format(a_str, an_str))\n",
    "print(\"%s %s\" % (a_str, an_str))\n",
    "print(f'{a_str} {an_str}')"
   ]
  },
  {
   "cell_type": "code",
   "execution_count": null,
   "metadata": {},
   "outputs": [],
   "source": [
    "#indexing\n",
    "s = \"Hello\"\n",
    "s[0]"
   ]
  },
  {
   "cell_type": "code",
   "execution_count": null,
   "metadata": {},
   "outputs": [],
   "source": [
    "# but...\n",
    "s[0] = \"Y\""
   ]
  },
  {
   "cell_type": "code",
   "execution_count": 1,
   "metadata": {},
   "outputs": [
    {
     "data": {
      "text/plain": [
       "5"
      ]
     },
     "execution_count": 1,
     "metadata": {},
     "output_type": "execute_result"
    }
   ],
   "source": [
    "# length\n",
    "s = \"Hello\"\n",
    "len(s)"
   ]
  },
  {
   "cell_type": "code",
   "execution_count": 5,
   "metadata": {},
   "outputs": [
    {
     "data": {
      "text/plain": [
       "['Welcome', ' My name is Python']"
      ]
     },
     "execution_count": 5,
     "metadata": {},
     "output_type": "execute_result"
    }
   ],
   "source": [
    "# splitting\n",
    "\n",
    "s = \"Welcome. My name is Python\"\n",
    "strs = s.split(\".\")\n",
    "strs"
   ]
  },
  {
   "cell_type": "code",
   "execution_count": 9,
   "metadata": {},
   "outputs": [
    {
     "data": {
      "text/plain": [
       "True"
      ]
     },
     "execution_count": 9,
     "metadata": {},
     "output_type": "execute_result"
    }
   ],
   "source": [
    "# substrings\n",
    "\"Welcome\" in s"
   ]
  },
  {
   "cell_type": "code",
   "execution_count": 7,
   "metadata": {},
   "outputs": [
    {
     "name": "stdout",
     "output_type": "stream",
     "text": [
      "lowercase: welcome\n",
      "UPPERCASE: WELCOME\n"
     ]
    }
   ],
   "source": [
    "# other string methods\n",
    "s = \"Welcome\"\n",
    "print(f\"lowercase: {s.lower()}\")\n",
    "print(f\"UPPERCASE: {s.upper()}\")"
   ]
  },
  {
   "cell_type": "markdown",
   "metadata": {},
   "source": [
    "Check out the python docs for other [string methods](https://docs.python.org/3/library/stdtypes.html#string-methods) "
   ]
  },
  {
   "cell_type": "markdown",
   "metadata": {},
   "source": [
    "#### Mini Challenge\n",
    "\n",
    "---\n",
    "\n",
    "1. Create a string with the value \"Welcome, this is a challenge, so be careful.\"\n",
    "<br/><br/>\n",
    "2. Split the string by the ',' character. Then make \"Welcome\" all uppercase. \n",
    "<br/><br/>\n",
    "3. Finally, join the strings back together using `\"\".join(list_of_strs)` and print the result (note: the final string \n",
    "should be \"WELCOME this is a challenge so be careful.\")\n",
    "<br/><br/>\n",
    "4. BONUS: Is \"Welcome\" a substring of your new string?"
   ]
  },
  {
   "cell_type": "code",
   "execution_count": 13,
   "metadata": {},
   "outputs": [
    {
     "name": "stdout",
     "output_type": "stream",
     "text": [
      "WELCOME this is a challenge so be careful\n"
     ]
    },
    {
     "data": {
      "text/plain": [
       "False"
      ]
     },
     "execution_count": 13,
     "metadata": {},
     "output_type": "execute_result"
    }
   ],
   "source": [
    "# Answer\n",
    "\n",
    "s = \"Welcome, this is a challenge, so be careful\"\n",
    "list_of_strs = s.split(\",\")\n",
    "list_of_strs[0] = list_of_strs[0].upper()\n",
    "a = \"\".join(list_of_strs)\n",
    "print(a)\n",
    "\"welcome\" in a"
   ]
  },
  {
   "cell_type": "markdown",
   "metadata": {},
   "source": [
    "### Ints and Floats (Numbers)"
   ]
  },
  {
   "cell_type": "code",
   "execution_count": null,
   "metadata": {},
   "outputs": [],
   "source": [
    "a = 5\n",
    "b = -2\n",
    "\n",
    "c = -34.127647325648245823542\n",
    "d = 3.14159\n",
    "e = 2.71828\n",
    "\n",
    "print(type(a))\n",
    "print(type(c))\n",
    "print(type(d))"
   ]
  },
  {
   "cell_type": "markdown",
   "metadata": {},
   "source": [
    "### Math and Operations\n",
    "\n"
   ]
  },
  {
   "cell_type": "code",
   "execution_count": null,
   "metadata": {},
   "outputs": [],
   "source": [
    "a = 5\n",
    "b = 10\n",
    "c = 9\n",
    "\n",
    "print(a + b)\n",
    "print(a - c)\n",
    "print(a * b)\n",
    "print(b / c)\n",
    "print(c % a)\n",
    "print(c ** a)\n",
    "print(b // c)"
   ]
  },
  {
   "cell_type": "code",
   "execution_count": null,
   "metadata": {},
   "outputs": [],
   "source": [
    "print(a * b + c)\n",
    "print(37 - a)\n",
    "\n",
    "print((a*c) / b)\n",
    "\n",
    "print((((a*b) / (2) - 2) * a) * ((b / (c + 1))))"
   ]
  },
  {
   "cell_type": "code",
   "execution_count": null,
   "metadata": {},
   "outputs": [],
   "source": [
    "a = 10\n",
    "\n",
    "print(a)\n",
    "\n",
    "a += 1 # a = a + 1\n",
    "\n",
    "print(a)\n",
    "\n",
    "a -= 1 # a = a - 1\n",
    "\n",
    "print(a)\n",
    "\n",
    "a *= 3 # a = a * 3\n",
    "\n",
    "print(a)\n",
    "\n",
    "a %= 4 # a = a & 2\n",
    "\n",
    "print(a)\n",
    "\n",
    "a **= 3 # a = a ** 2\n",
    "\n",
    "print(a)\n",
    "\n",
    "\n",
    "a = 1 / 10\n",
    "\n",
    "print(f\"{a:.5f}\")\n",
    "\n",
    "print(f\"{a:.25f}\")\n",
    "\n",
    "print(f\"{a:.250f}\") # Don't increase this by too much, eventually will crash your computer"
   ]
  },
  {
   "cell_type": "code",
   "execution_count": null,
   "metadata": {},
   "outputs": [],
   "source": [
    "# Formatting is fun\n",
    "\n",
    "print(5 + 7)\n",
    "print(5+7)\n",
    "print(5+ 7)\n",
    "print(   5 +7 )\n",
    "print(                5+                               7)\n",
    "print(5                                            +                                    7)"
   ]
  },
  {
   "cell_type": "markdown",
   "metadata": {},
   "source": [
    "### List, Tuple, Range, and String again (Sequence)"
   ]
  },
  {
   "cell_type": "code",
   "execution_count": null,
   "metadata": {},
   "outputs": [],
   "source": [
    "# talk about zip\n",
    "# talk about list comprehension"
   ]
  },
  {
   "cell_type": "markdown",
   "metadata": {},
   "source": [
    "### Immutable vs Mutable"
   ]
  },
  {
   "cell_type": "code",
   "execution_count": null,
   "metadata": {},
   "outputs": [],
   "source": [
    "# int\n",
    "\n",
    "a = 1\n",
    "b = a\n",
    "a = 3\n",
    "b"
   ]
  },
  {
   "cell_type": "code",
   "execution_count": null,
   "metadata": {},
   "outputs": [],
   "source": [
    "# list\n",
    "\n",
    "a = [1, 2, 3]\n",
    "b = a\n",
    "a[0] = 4\n",
    "b"
   ]
  },
  {
   "cell_type": "code",
   "execution_count": null,
   "metadata": {},
   "outputs": [],
   "source": [
    "a = \"Hello\"\n",
    "b = a\n",
    "a[0]"
   ]
  },
  {
   "cell_type": "markdown",
   "metadata": {},
   "source": [
    "### Dictionary and Set"
   ]
  },
  {
   "cell_type": "code",
   "execution_count": null,
   "metadata": {},
   "outputs": [],
   "source": [
    "    "
   ]
  },
  {
   "cell_type": "markdown",
   "metadata": {},
   "source": [
    "### Boolean Logic and If-Else"
   ]
  },
  {
   "cell_type": "code",
   "execution_count": null,
   "metadata": {},
   "outputs": [],
   "source": [
    "# Unlike java, you need to capitalize True and False when initializing Booleans\n",
    "\n",
    "is_blonde = True\n",
    "if is_blonde:\n",
    "    print(\"This person is blonde\")\n",
    "else:\n",
    "    print(\"This person is not blonde\")"
   ]
  },
  {
   "cell_type": "code",
   "execution_count": null,
   "metadata": {},
   "outputs": [],
   "source": [
    "## python \"and\" is similar to java \"&&\"\" logical operator\n",
    "\n",
    "is_blonde = True\n",
    "is_tall = True\n",
    "\n",
    "if is_blonde and is_tall:\n",
    "    print(\"This person is blonde and tall\")\n",
    "else:\n",
    "    print(\"This person is either not blonde or not tall\")\n"
   ]
  },
  {
   "cell_type": "code",
   "execution_count": null,
   "metadata": {},
   "outputs": [],
   "source": [
    "## python \"or\" is similar to java \"||\"\" logical operator\n",
    "\n",
    "is_blonde = True\n",
    "is_tall = True\n",
    "\n",
    "if is_blonde or is_tall:\n",
    "    print(\"This person is blonde or is tall\")\n",
    "else:\n",
    "    print(\"This person is not blonde and not tall\")"
   ]
  },
  {
   "cell_type": "code",
   "execution_count": null,
   "metadata": {},
   "outputs": [],
   "source": [
    "## python \"not\" operator returns True if operand is False\n",
    "\n",
    "is_blonde = True\n",
    "is_tall = True\n",
    "\n",
    "if is_blonde and is_tall:\n",
    "    print(\"This person is blonde and tall\")\n",
    "elif is_blonde and not is_tall:\n",
    "    print(\"This person is blonde and not tall\")\n",
    "elif not is_blonde and is_tall:\n",
    "    print(\"This person is not blonde and is tall\")\n",
    "else:\n",
    "    print(\"This person is not blonde and not tall\")\n"
   ]
  },
  {
   "cell_type": "code",
   "execution_count": null,
   "metadata": {},
   "outputs": [],
   "source": [
    "## Mini Challenge ! :)\n",
    "\n",
    "# Write a program with two boolean values of your choice\n",
    "# where a description is printed for each possible boolean combination "
   ]
  },
  {
   "cell_type": "markdown",
   "metadata": {},
   "source": [
    "### Functions\n"
   ]
  },
  {
   "cell_type": "code",
   "execution_count": null,
   "metadata": {},
   "outputs": [],
   "source": []
  },
  {
   "cell_type": "markdown",
   "metadata": {},
   "source": []
  },
  {
   "cell_type": "markdown",
   "metadata": {},
   "source": [
    "### Numpy "
   ]
  },
  {
   "cell_type": "code",
   "execution_count": null,
   "metadata": {},
   "outputs": [],
   "source": []
  },
  {
   "cell_type": "markdown",
   "metadata": {},
   "source": [
    "### Pandas"
   ]
  },
  {
   "cell_type": "code",
   "execution_count": null,
   "metadata": {},
   "outputs": [],
   "source": []
  }
 ],
 "metadata": {
  "kernelspec": {
   "display_name": "Workshop",
   "language": "python",
   "name": "python3"
  },
  "language_info": {
   "codemirror_mode": {
    "name": "ipython",
    "version": 3
   },
   "file_extension": ".py",
   "mimetype": "text/x-python",
   "name": "python",
   "nbconvert_exporter": "python",
   "pygments_lexer": "ipython3",
   "version": "3.10.6"
  }
 },
 "nbformat": 4,
 "nbformat_minor": 2
}
