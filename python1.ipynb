{
 "cells": [
  {
   "cell_type": "markdown",
   "metadata": {},
   "source": [
    "# Introduction to Python"
   ]
  },
  {
   "cell_type": "markdown",
   "metadata": {},
   "source": [
    "## Main Content"
   ]
  },
  {
   "cell_type": "markdown",
   "metadata": {},
   "source": [
    "What is Python used for?\n",
    "- Data Science, Machine Learning, Web Development, Prototyping, Scientific Programming, Scripting, Robotics, etc.\n",
    "\n",
    "Why use Python?\n",
    "- Python is a high-level language: it is easy to write and it is easy to read.\n",
    "- Resources for learning Python are all over the web.\n",
    "\n",
    "Jupyter Notebook & Google Colab\n",
    "- Used for scientific programming and prototyping.\n",
    "- Variables are stored.\n",
    "- Colab is a free cloud environment where Jupyter notebooks (.ipynb files) can be ran.\n",
    "\n",
    "Whats the purpose of this notebook?\n",
    "- Introduce beginning programmers to python syntax, logic, and philosophy.\n",
    "- This notebook covers the fundamentals of programming and dives into some specifics of Python."
   ]
  },
  {
   "cell_type": "code",
   "execution_count": 37,
   "metadata": {},
   "outputs": [],
   "source": [
    "# Data Types\n",
    "a = \"Hello\" # string\n",
    "b = 1 # integer\n",
    "c = 0.1 # float\n",
    "\n",
    "d = [1, 2, 'c'] # list\n",
    "e = (1, 2, 'c') # tuple\n",
    "f = {'a': 1, 'b': 2} # dictionary\n",
    "\n",
    "g = True # bool\n",
    "i = None # null"
   ]
  },
  {
   "cell_type": "markdown",
   "metadata": {},
   "source": [
    "### Strings \n",
    "---"
   ]
  },
  {
   "cell_type": "code",
   "execution_count": 38,
   "metadata": {},
   "outputs": [
    {
     "name": "stdout",
     "output_type": "stream",
     "text": [
      "This is a string. Pretty neat.\n",
      "This is a string 2.\n",
      "'Really?', you ask.\n",
      "Y\n",
      "I guess thats just\n",
      "how python works...\n"
     ]
    }
   ],
   "source": [
    "# in Java: String greeting = \"Hello\";\n",
    "\n",
    "s1 = \"This is a string. Pretty neat.\"\n",
    "\n",
    "s2 = 'This is a string 2.'\n",
    "\n",
    "s3 = \"'Really?', you ask.\"\n",
    "\n",
    "s4 = 'Y'\n",
    "\n",
    "s5 = '''I guess thats just\n",
    "how python works...'''\n",
    "\n",
    "print(s1)\n",
    "print(s2)\n",
    "print(s3)\n",
    "print(s4)\n",
    "print(s5)"
   ]
  },
  {
   "cell_type": "code",
   "execution_count": 39,
   "metadata": {},
   "outputs": [
    {
     "name": "stdout",
     "output_type": "stream",
     "text": [
      "This is a string. This is another.\n",
      "This is a string. This is another.\n",
      "This is a string. This is another.\n",
      "This is a string. This is another.\n",
      "This is a string. This is another.\n"
     ]
    }
   ],
   "source": [
    "# in Java: System.out.println(\"The length of the txt string is: \" + txt.length());\n",
    "\n",
    "a_str = \"This is a string.\"\n",
    "an_str = \"This is another.\"\n",
    "\n",
    "print(a_str, an_str)\n",
    "print(a_str + \" \" + an_str)\n",
    "print(\"{} {}\".format(a_str, an_str))\n",
    "print(\"%s %s\" % (a_str, an_str))\n",
    "print(f'{a_str} {an_str}')"
   ]
  },
  {
   "cell_type": "code",
   "execution_count": 40,
   "metadata": {},
   "outputs": [
    {
     "name": "stdout",
     "output_type": "stream",
     "text": [
      "s[0] = H\n"
     ]
    }
   ],
   "source": [
    "#indexing\n",
    "s = \"Hello\"\n",
    "print(f's[0] = {s[0]}')"
   ]
  },
  {
   "cell_type": "code",
   "execution_count": 41,
   "metadata": {},
   "outputs": [
    {
     "data": {
      "text/plain": [
       "5"
      ]
     },
     "execution_count": 41,
     "metadata": {},
     "output_type": "execute_result"
    }
   ],
   "source": [
    "# length\n",
    "s = \"Hello\"\n",
    "len(s)"
   ]
  },
  {
   "cell_type": "code",
   "execution_count": 42,
   "metadata": {},
   "outputs": [
    {
     "name": "stdout",
     "output_type": "stream",
     "text": [
      "False\n"
     ]
    }
   ],
   "source": [
    "# substrings\n",
    "print(\"Welcome\" in s)"
   ]
  },
  {
   "cell_type": "code",
   "execution_count": 43,
   "metadata": {},
   "outputs": [
    {
     "name": "stdout",
     "output_type": "stream",
     "text": [
      "['Welcome', 'to', 'the', 'Python', 'Event']\n"
     ]
    }
   ],
   "source": [
    "# splitting\n",
    "s = \"Welcome to the Python Event\"\n",
    "strs = s.split()\n",
    "\n",
    "print(strs)"
   ]
  },
  {
   "cell_type": "code",
   "execution_count": 44,
   "metadata": {},
   "outputs": [
    {
     "name": "stdout",
     "output_type": "stream",
     "text": [
      "lowercase:                welcome\n",
      "UPPERCASE:                WELCOME\n",
      "Count of W's:             1\n",
      "Count of w's:             0\n",
      "Replace 'elco' with 'ak': Wake\n"
     ]
    }
   ],
   "source": [
    "# other string methods\n",
    "s = \"Welcome\"\n",
    "\n",
    "print(f\"lowercase:                {s.lower()}\")\n",
    "print(f\"UPPERCASE:                {s.upper()}\")\n",
    "print(f\"Count of W's:             {s.count('W')}\")\n",
    "print(f\"Count of w's:             {s.count('w')}\")\n",
    "print(f\"Replace 'elco' with 'ak': {s.replace('elcom', 'ak')}\")"
   ]
  },
  {
   "cell_type": "markdown",
   "metadata": {},
   "source": [
    "Find more string [methods here](https://docs.python.org/3/tutorial/datastructures.html#data-structures)."
   ]
  },
  {
   "cell_type": "markdown",
   "metadata": {},
   "source": [
    "#### Mini Challenge\n",
    "\n",
    "---\n",
    "\n",
    "1. Create a string with the value \"Welcome one. Welcome all!\" (this is done for you).\n",
    "<br/><br/>\n",
    "2. Split the string by the `.` character and assign the result to `list_of_strs`. \n",
    "<br/><br/>\n",
    "3. Join the strings back together using `\"...\".join(list_of_strs)`\n",
    "<br/><br/>\n",
    "4. Finally, replace 'Welcome' with 'WELCOME'.\n",
    "<br/><br/>\n",
    "5. BONUS: Is \"welcome\" a substring of your new string?\n",
    "<br/><br/>\n",
    "6. BONUS: Why were both `Welcome`s changed? Can you change the first one only? "
   ]
  },
  {
   "cell_type": "code",
   "execution_count": 45,
   "metadata": {},
   "outputs": [],
   "source": [
    "s = \"Welcome one. Welcome all!\""
   ]
  },
  {
   "cell_type": "markdown",
   "metadata": {},
   "source": [
    "### Ints and Floats (Numeric Types)\n",
    "---"
   ]
  },
  {
   "cell_type": "code",
   "execution_count": 46,
   "metadata": {},
   "outputs": [],
   "source": [
    "a = 5\n",
    "b = -2\n",
    "\n",
    "c = -34.127647\n",
    "d = 3.14159\n",
    "e = 2.71828"
   ]
  },
  {
   "cell_type": "code",
   "execution_count": 47,
   "metadata": {},
   "outputs": [
    {
     "name": "stdout",
     "output_type": "stream",
     "text": [
      "a + b = 6\n",
      "a - b = 4\n",
      "a * b = 15\n",
      "a / b = 1.6666666666666667\n",
      "a % c = 2\n",
      "a ** c = 125\n",
      "a // c = 1\n"
     ]
    }
   ],
   "source": [
    "#operations\n",
    "\n",
    "a, b, c = 5, 1, 3\n",
    "\n",
    "print(f'a + b = {a + b}') # addition\n",
    "print(f'a - b = {a - b}') # subtraction\n",
    "print(f'a * b = {a * c}') # multiplication\n",
    "print(f'a / b = {a / c}') # division\n",
    "print(f'a % c = {a % c}') # modulus\n",
    "print(f'a ** c = {a ** c}') # exponentiation\n",
    "print(f'a // c = {a // c}') # integer division"
   ]
  },
  {
   "cell_type": "code",
   "execution_count": 114,
   "metadata": {},
   "outputs": [
    {
     "name": "stdout",
     "output_type": "stream",
     "text": [
      "2\n"
     ]
    }
   ],
   "source": [
    "# type conversion\n",
    "\n",
    "a = int(2.71)\n",
    "\n",
    "print(a)"
   ]
  },
  {
   "cell_type": "code",
   "execution_count": 48,
   "metadata": {},
   "outputs": [
    {
     "data": {
      "text/plain": [
       "float"
      ]
     },
     "execution_count": 48,
     "metadata": {},
     "output_type": "execute_result"
    }
   ],
   "source": [
    "# implicit type conversion\n",
    "a = 1\n",
    "b = 2.0\n",
    "\n",
    "type(a + b) "
   ]
  },
  {
   "cell_type": "code",
   "execution_count": 49,
   "metadata": {},
   "outputs": [
    {
     "name": "stdout",
     "output_type": "stream",
     "text": [
      "7\n",
      "10\n"
     ]
    }
   ],
   "source": [
    "# pemdas\n",
    "\n",
    "print(3 + 2 * 2)\n",
    "print((3 + 2) * 2)"
   ]
  },
  {
   "cell_type": "code",
   "execution_count": 50,
   "metadata": {},
   "outputs": [
    {
     "name": "stdout",
     "output_type": "stream",
     "text": [
      "0.10000\n",
      "0.10000000000000000555\n"
     ]
    }
   ],
   "source": [
    "# floating points\n",
    "\n",
    "a = 1/10\n",
    "print(f'{a:.5f}')\n",
    "print(f'{a:.20f}')"
   ]
  },
  {
   "cell_type": "markdown",
   "metadata": {},
   "source": [
    "### Lists, Tuples, Ranges, and Strings again (Sequence Types)\n",
    "---"
   ]
  },
  {
   "cell_type": "markdown",
   "metadata": {},
   "source": [
    "#### List"
   ]
  },
  {
   "cell_type": "code",
   "execution_count": 51,
   "metadata": {},
   "outputs": [],
   "source": [
    "# List\n",
    "a = [1, 2, 3, 4]\n",
    "b = [\"Hi\", \"My\", \"Name\", \"Is\"]\n",
    "c = [0.1, \"Hi\", 3, [1, 2]]"
   ]
  },
  {
   "cell_type": "code",
   "execution_count": 52,
   "metadata": {},
   "outputs": [
    {
     "name": "stdout",
     "output_type": "stream",
     "text": [
      "a[0]:  1\n",
      "a[-1]: 4\n",
      "a[1:3]: [2, 3]\n"
     ]
    }
   ],
   "source": [
    "# Indexing\n",
    "a = [1, 2, 3, 4]\n",
    "\n",
    "print(f'a[0]:  {a[0]}')\n",
    "print(f'a[-1]: {a[-1]}')\n",
    "print(f'a[1:3]: {a[1:3]}')"
   ]
  },
  {
   "cell_type": "markdown",
   "metadata": {},
   "source": [
    "#### Tuple"
   ]
  },
  {
   "cell_type": "code",
   "execution_count": 99,
   "metadata": {},
   "outputs": [],
   "source": [
    "# Tuples\n",
    "a = (1, 2, 3)\n",
    "b = (\"Hi\", \"My\", \"Name\", \"Is\")\n",
    "c = \"Hi\", 1"
   ]
  },
  {
   "cell_type": "code",
   "execution_count": 94,
   "metadata": {},
   "outputs": [
    {
     "name": "stdout",
     "output_type": "stream",
     "text": [
      "a[0]:  1\n",
      "a[-1]: 3\n",
      "a[1:3]: (2, 3)\n"
     ]
    }
   ],
   "source": [
    "# indexing\n",
    "print(f'a[0]:  {a[0]}')\n",
    "print(f'a[-1]: {a[-1]}')\n",
    "print(f'a[1:3]: {a[1:3]}')"
   ]
  },
  {
   "cell_type": "code",
   "execution_count": 96,
   "metadata": {},
   "outputs": [
    {
     "ename": "TypeError",
     "evalue": "'tuple' object does not support item assignment",
     "output_type": "error",
     "traceback": [
      "\u001b[1;31m---------------------------------------------------------------------------\u001b[0m",
      "\u001b[1;31mTypeError\u001b[0m                                 Traceback (most recent call last)",
      "Cell \u001b[1;32mIn[96], line 3\u001b[0m\n\u001b[0;32m      1\u001b[0m \u001b[38;5;66;03m# importantly, you can not set values of a tuple\u001b[39;00m\n\u001b[1;32m----> 3\u001b[0m \u001b[43ma\u001b[49m\u001b[43m[\u001b[49m\u001b[38;5;241;43m0\u001b[39;49m\u001b[43m]\u001b[49m \u001b[38;5;241m=\u001b[39m \u001b[38;5;241m1\u001b[39m\n",
      "\u001b[1;31mTypeError\u001b[0m: 'tuple' object does not support item assignment"
     ]
    }
   ],
   "source": [
    "# importantly, you can not set values of a tuple (more on this later)\n",
    "\n",
    "a[0] = 1"
   ]
  },
  {
   "cell_type": "markdown",
   "metadata": {},
   "source": [
    "#### Range"
   ]
  },
  {
   "cell_type": "code",
   "execution_count": 120,
   "metadata": {},
   "outputs": [
    {
     "name": "stdout",
     "output_type": "stream",
     "text": [
      "range(0, 3)\n"
     ]
    }
   ],
   "source": [
    "r = range(3)\n",
    "\n",
    "print(r)"
   ]
  },
  {
   "cell_type": "code",
   "execution_count": 121,
   "metadata": {},
   "outputs": [
    {
     "name": "stdout",
     "output_type": "stream",
     "text": [
      "a[0]:  0\n",
      "a[-1]: 2\n",
      "a[1:3]: range(1, 3)\n"
     ]
    }
   ],
   "source": [
    "print(f'a[0]:  {r[0]}')\n",
    "print(f'a[-1]: {r[-1]}')\n",
    "print(f'a[1:3]: {r[1:3]}')"
   ]
  },
  {
   "cell_type": "code",
   "execution_count": 122,
   "metadata": {},
   "outputs": [
    {
     "name": "stdout",
     "output_type": "stream",
     "text": [
      "b[2]: 4\n"
     ]
    }
   ],
   "source": [
    "b = range(0, 7, 2)\n",
    "\n",
    "print(f\"b[2]: {b[2]}\") # but why?"
   ]
  },
  {
   "cell_type": "markdown",
   "metadata": {},
   "source": [
    "#### Strings again"
   ]
  },
  {
   "cell_type": "code",
   "execution_count": 123,
   "metadata": {},
   "outputs": [
    {
     "name": "stdout",
     "output_type": "stream",
     "text": [
      "a[0]:  H\n",
      "a[-1]: o\n",
      "a[1:3]: el\n"
     ]
    }
   ],
   "source": [
    "# Lets see what we can do with strings\n",
    "\n",
    "s = \"Hello\"\n",
    "\n",
    "print(f'a[0]:  {s[0]}')\n",
    "print(f'a[-1]: {s[-1]}')\n",
    "print(f'a[1:3]: {s[1:3]}')"
   ]
  },
  {
   "cell_type": "code",
   "execution_count": 124,
   "metadata": {},
   "outputs": [
    {
     "ename": "TypeError",
     "evalue": "'str' object does not support item assignment",
     "output_type": "error",
     "traceback": [
      "\u001b[1;31m---------------------------------------------------------------------------\u001b[0m",
      "\u001b[1;31mTypeError\u001b[0m                                 Traceback (most recent call last)",
      "Cell \u001b[1;32mIn[124], line 2\u001b[0m\n\u001b[0;32m      1\u001b[0m \u001b[38;5;66;03m# similar to tuples, you can not set values of a string\u001b[39;00m\n\u001b[1;32m----> 2\u001b[0m \u001b[43ms\u001b[49m\u001b[43m[\u001b[49m\u001b[38;5;241;43m0\u001b[39;49m\u001b[43m]\u001b[49m \u001b[38;5;241m=\u001b[39m \u001b[38;5;124m\"\u001b[39m\u001b[38;5;124mY\u001b[39m\u001b[38;5;124m\"\u001b[39m\n",
      "\u001b[1;31mTypeError\u001b[0m: 'str' object does not support item assignment"
     ]
    }
   ],
   "source": [
    "# similar to tuples, you can not set values of a string\n",
    "s[0] = \"Y\""
   ]
  },
  {
   "cell_type": "markdown",
   "metadata": {},
   "source": [
    "#### Common Operators"
   ]
  },
  {
   "cell_type": "code",
   "execution_count": 126,
   "metadata": {},
   "outputs": [
    {
     "name": "stdout",
     "output_type": "stream",
     "text": [
      "True\n",
      "True\n",
      "True\n",
      "True\n"
     ]
    }
   ],
   "source": [
    "# the Sequence types share common operators\n",
    "\n",
    "print(1 in [1, 2, 3])\n",
    "print(1 in (1, 2, 3))\n",
    "print(1 in range(3))\n",
    "print(\"H\" in \"Hello\")"
   ]
  },
  {
   "cell_type": "code",
   "execution_count": null,
   "metadata": {},
   "outputs": [],
   "source": []
  },
  {
   "cell_type": "code",
   "execution_count": null,
   "metadata": {},
   "outputs": [],
   "source": [
    "# in \n",
    "# + \n",
    "# * \n",
    "# etc"
   ]
  },
  {
   "cell_type": "markdown",
   "metadata": {},
   "source": [
    "#### Loops"
   ]
  },
  {
   "cell_type": "code",
   "execution_count": 56,
   "metadata": {},
   "outputs": [
    {
     "name": "stdout",
     "output_type": "stream",
     "text": [
      "The item at index 0 in the list: Hi\n",
      "The item at index 1 in the list: Python\n",
      "The item at index 2 in the list: People\n"
     ]
    }
   ],
   "source": [
    "# Loops\n",
    "\n",
    "my_list = ['Hi', 'Python', 'People']\n",
    "\n",
    "# the good ole while loop\n",
    "\n",
    "i = 0\n",
    "while(i < len(my_list)):\n",
    "    print(f'The item at index {i} in the list: {my_list[i]}')\n",
    "    i+=1"
   ]
  },
  {
   "cell_type": "code",
   "execution_count": 57,
   "metadata": {},
   "outputs": [
    {
     "name": "stdout",
     "output_type": "stream",
     "text": [
      "Hi\n",
      "Python\n",
      "People\n"
     ]
    }
   ],
   "source": [
    "my_list = ['Hi', 'Python', 'People']\n",
    "\n",
    "# the python for loop\n",
    "\n",
    "for item in my_list:\n",
    "    print(f'{item}')"
   ]
  },
  {
   "cell_type": "code",
   "execution_count": 58,
   "metadata": {},
   "outputs": [
    {
     "name": "stdout",
     "output_type": "stream",
     "text": [
      "The item at index 0 in the list: Hi\n"
     ]
    }
   ],
   "source": [
    "a = [\"Hi\", \"Python\", \"People\"]\n",
    "\n",
    "# the enumerate method\n",
    "\n",
    "for i, item in enumerate(my_list):\n",
    "    if i == 1: break #continue \n",
    "    print(f'The item at index {i} in the list: {item}')\n",
    "    "
   ]
  },
  {
   "cell_type": "code",
   "execution_count": 59,
   "metadata": {},
   "outputs": [
    {
     "name": "stdout",
     "output_type": "stream",
     "text": [
      "[2, 3, 4]\n"
     ]
    }
   ],
   "source": [
    "# aside about Pythonic coding...\n",
    "\n",
    "a = [1, 2, 3]\n",
    "\n",
    "# list comprehension\n",
    "b = [item + 1 for item in a]\n",
    "\n",
    "print(b)"
   ]
  },
  {
   "cell_type": "code",
   "execution_count": 60,
   "metadata": {},
   "outputs": [
    {
     "name": "stdout",
     "output_type": "stream",
     "text": [
      "Yes\n"
     ]
    }
   ],
   "source": [
    "# brief mention of if-else\n",
    "\n",
    "a = 'red'\n",
    "b = 'blue'\n",
    "\n",
    "if a == 'red' or b == 'green':\n",
    "    print(\"Yes\")\n",
    "else:\n",
    "    print(\"No\")"
   ]
  },
  {
   "cell_type": "code",
   "execution_count": 61,
   "metadata": {},
   "outputs": [
    {
     "name": "stdout",
     "output_type": "stream",
     "text": [
      "Both\n"
     ]
    }
   ],
   "source": [
    "a = True\n",
    "b = True\n",
    "\n",
    "if a and b:\n",
    "    print('Both')    \n",
    "elif a:\n",
    "    print('Just a')\n",
    "elif b:\n",
    "    print('Just b')\n",
    "else:\n",
    "    print('Neither')"
   ]
  },
  {
   "cell_type": "code",
   "execution_count": 62,
   "metadata": {},
   "outputs": [
    {
     "name": "stdout",
     "output_type": "stream",
     "text": [
      "[2]\n"
     ]
    }
   ],
   "source": [
    "# list comprehension with conditionals\n",
    "\n",
    "a = [1, 2, 3]\n",
    "\n",
    "b = [item * 2 for item in a if item == 1] \n",
    "\n",
    "print(b)"
   ]
  },
  {
   "cell_type": "code",
   "execution_count": 63,
   "metadata": {},
   "outputs": [
    {
     "name": "stdout",
     "output_type": "stream",
     "text": [
      "sum_a = 6\n",
      "len_b = 3\n"
     ]
    }
   ],
   "source": [
    "# builtins\n",
    "a = [1, 2, 3]\n",
    "b = [4, 5, 6]\n",
    "\n",
    "sum_a = sum(a)\n",
    "len_b = len(b)\n",
    "\n",
    "print(f'sum_a = {sum_a}')\n",
    "print(f'len_b = {len_b}')\n",
    "\n"
   ]
  },
  {
   "cell_type": "code",
   "execution_count": 64,
   "metadata": {},
   "outputs": [
    {
     "name": "stdout",
     "output_type": "stream",
     "text": [
      "a = [1, 2, 3, '']\n",
      "a = [1, 2, 3, '', 4, 5, 6]\n"
     ]
    }
   ],
   "source": [
    "# list methods\n",
    "a = [1, 2, 3]\n",
    "b = [4, 5, 6]\n",
    "\n",
    "a.append('') # the linter makes a mistake here \n",
    "print(f'a = {a}')\n",
    "\n",
    "a.extend(b)\n",
    "print(f'a = {a}')"
   ]
  },
  {
   "cell_type": "markdown",
   "metadata": {},
   "source": [
    "Find more [list methods here](https://docs.python.org/3/tutorial/datastructures.html#data-structures).\n",
    "\n",
    "Find more on other [sequence types here](https://docs.python.org/3/library/stdtypes.html#sequence-types-list-tuple-range)."
   ]
  },
  {
   "cell_type": "markdown",
   "metadata": {},
   "source": [
    "#### Mini Challenge\n",
    "\n",
    "---\n",
    "\n",
    "1. Calculate the sum of all even integers in the range 0-20.\n",
    "<br/>\n",
    "<br/>\n",
    "2. Perform task 1 again but use a different loop style.\n",
    "<br/>\n",
    "<br/>\n",
    "3. BONUS: Use list comprehension to create a list of lists where each sub-list contains 3 digits, and the digits span 1 through 9 (the result should be `[[1, 2, 3], [4, 5, 6], [7, 8, 9]]`)."
   ]
  },
  {
   "cell_type": "code",
   "execution_count": 65,
   "metadata": {},
   "outputs": [],
   "source": [
    "# do challenge here\n"
   ]
  },
  {
   "cell_type": "markdown",
   "metadata": {},
   "source": [
    "### Magic Methods\n",
    "---"
   ]
  },
  {
   "cell_type": "code",
   "execution_count": 66,
   "metadata": {},
   "outputs": [
    {
     "name": "stdout",
     "output_type": "stream",
     "text": [
      "Tuples? True\n",
      "Lists? True\n",
      "Ranges? True\n",
      "Strings? True\n",
      "Integers? False\n"
     ]
    }
   ],
   "source": [
    "# You may loop over any object which implements the __iter__ method defined (which should return an object that implemetns __next__)\n",
    "\n",
    "a = (0,1)\n",
    "b = [0, 1]\n",
    "c = range(0,10)\n",
    "d = \"Hello\"\n",
    "e = 123\n",
    "\n",
    "# Lets check...\n",
    "# using the hasattr function\n",
    "\n",
    "print(f\"Tuples? {hasattr(a, '__iter__')}\")\n",
    "print(f\"Lists? {hasattr(b, '__iter__')}\")\n",
    "print(f\"Ranges? {hasattr(c, '__iter__')}\")\n",
    "print(f\"Strings? {hasattr(d, '__iter__')}\")\n",
    "print(f\"Integers? {hasattr(e, '__iter__')}\")"
   ]
  },
  {
   "cell_type": "code",
   "execution_count": 67,
   "metadata": {},
   "outputs": [],
   "source": [
    "# some magic methods that we've been calling\n",
    "\n",
    "# __init__\n",
    "# __iter__\n",
    "# __next__\n",
    "# __sum__\n",
    "# __len__\n",
    "# __getitem__\n",
    "# etc"
   ]
  },
  {
   "cell_type": "markdown",
   "metadata": {},
   "source": [
    "### Immutable vs Mutable\n",
    "---"
   ]
  },
  {
   "cell_type": "code",
   "execution_count": 68,
   "metadata": {},
   "outputs": [
    {
     "name": "stdout",
     "output_type": "stream",
     "text": [
      "a: 3\n",
      "b: 1\n"
     ]
    }
   ],
   "source": [
    "a = 1\n",
    "b = a\n",
    "a = 3\n",
    "\n",
    "print(f'a: {a}')\n",
    "print(f'b: {b}')"
   ]
  },
  {
   "cell_type": "code",
   "execution_count": 69,
   "metadata": {},
   "outputs": [
    {
     "name": "stdout",
     "output_type": "stream",
     "text": [
      "a: [4, 2, 3]\n",
      "b: [4, 2, 3]\n"
     ]
    }
   ],
   "source": [
    "# list\n",
    "\n",
    "a = [1, 2, 3]\n",
    "b = a\n",
    "a[0] = 4\n",
    "\n",
    "print(f'a: {a}')\n",
    "print(f'b: {b}')"
   ]
  },
  {
   "cell_type": "code",
   "execution_count": 70,
   "metadata": {},
   "outputs": [
    {
     "name": "stdout",
     "output_type": "stream",
     "text": [
      "a: [4, 2, 3]\n",
      "b: [1, 2, 3]\n"
     ]
    }
   ],
   "source": [
    "a = [1, 2, 3]\n",
    "b = a[:3]\n",
    "a[0] = 4\n",
    "\n",
    "print(f'a: {a}')\n",
    "print(f'b: {b}')"
   ]
  },
  {
   "cell_type": "code",
   "execution_count": 71,
   "metadata": {},
   "outputs": [
    {
     "name": "stdout",
     "output_type": "stream",
     "text": [
      "a: [4, 2, 3]\n",
      "b: [1, 2, 3]\n"
     ]
    }
   ],
   "source": [
    "a = [1, 2, 3]\n",
    "b = a.copy()\n",
    "a[0] = 4\n",
    "\n",
    "print(f'a: {a}')\n",
    "print(f'b: {b}')"
   ]
  },
  {
   "cell_type": "markdown",
   "metadata": {},
   "source": [
    "### Dictionary (i.e. Hash Map)\n",
    "---"
   ]
  },
  {
   "cell_type": "code",
   "execution_count": 72,
   "metadata": {},
   "outputs": [
    {
     "ename": "TypeError",
     "evalue": "unhashable type: 'list'",
     "output_type": "error",
     "traceback": [
      "\u001b[1;31m---------------------------------------------------------------------------\u001b[0m",
      "\u001b[1;31mTypeError\u001b[0m                                 Traceback (most recent call last)",
      "Cell \u001b[1;32mIn[72], line 7\u001b[0m\n\u001b[0;32m      4\u001b[0m b \u001b[38;5;241m=\u001b[39m [\u001b[38;5;241m1\u001b[39m, \u001b[38;5;124m\"\u001b[39m\u001b[38;5;124mHi\u001b[39m\u001b[38;5;124m\"\u001b[39m]\n\u001b[0;32m      6\u001b[0m a_hash \u001b[38;5;241m=\u001b[39m \u001b[38;5;28mhash\u001b[39m(a)\n\u001b[1;32m----> 7\u001b[0m b_hash \u001b[38;5;241m=\u001b[39m \u001b[38;5;28;43mhash\u001b[39;49m\u001b[43m(\u001b[49m\u001b[43mb\u001b[49m\u001b[43m)\u001b[49m\n\u001b[0;32m      9\u001b[0m \u001b[38;5;66;03m# print(a_hash)\u001b[39;00m\n",
      "\u001b[1;31mTypeError\u001b[0m: unhashable type: 'list'"
     ]
    }
   ],
   "source": [
    "# one usage of immutable objects is that they are hashable\n",
    "\n",
    "a = (1, \"Hi\")\n",
    "b = [1, \"Hi\"]\n",
    "\n",
    "a_hash = hash(a)\n",
    "b_hash = hash(b)\n",
    "\n",
    "# print(a_hash)"
   ]
  },
  {
   "cell_type": "markdown",
   "metadata": {},
   "source": [
    "This allows us to use a tuple (or any immutable item) as a key in a dictionary."
   ]
  },
  {
   "cell_type": "code",
   "execution_count": 82,
   "metadata": {},
   "outputs": [
    {
     "name": "stdout",
     "output_type": "stream",
     "text": [
      "{'a': 1, 'b': 3, 'c': 5}\n"
     ]
    }
   ],
   "source": [
    "d = {'a': 1, 'b': 3, 'c': 5}\n",
    "\n",
    "print(d)"
   ]
  },
  {
   "cell_type": "code",
   "execution_count": 85,
   "metadata": {},
   "outputs": [
    {
     "name": "stdout",
     "output_type": "stream",
     "text": [
      "{'a': 0, 'b': 2, 'c': 3}\n"
     ]
    }
   ],
   "source": [
    "# store\n",
    "\n",
    "d['a'] = 0\n",
    "\n",
    "print(d)"
   ]
  },
  {
   "cell_type": "code",
   "execution_count": 86,
   "metadata": {},
   "outputs": [
    {
     "name": "stdout",
     "output_type": "stream",
     "text": [
      "0\n"
     ]
    }
   ],
   "source": [
    "# extract\n",
    "\n",
    "a = d['a']\n",
    "\n",
    "print(a)"
   ]
  },
  {
   "cell_type": "code",
   "execution_count": 89,
   "metadata": {},
   "outputs": [
    {
     "name": "stdout",
     "output_type": "stream",
     "text": [
      "KEY: a, VALUE: 0\n",
      "KEY: b, VALUE: 2\n",
      "KEY: c, VALUE: 3\n"
     ]
    }
   ],
   "source": [
    "# iterate over the dictionary\n",
    "\n",
    "for k, v in d.items():\n",
    "    print(f'KEY: {k}, VALUE: {v}')"
   ]
  },
  {
   "cell_type": "code",
   "execution_count": 90,
   "metadata": {},
   "outputs": [
    {
     "name": "stdout",
     "output_type": "stream",
     "text": [
      "KEY: a\n",
      "KEY: b\n",
      "KEY: c\n"
     ]
    }
   ],
   "source": [
    "# just the keys\n",
    "\n",
    "for k in d.keys():\n",
    "    print(f'KEY: {k}')"
   ]
  },
  {
   "cell_type": "code",
   "execution_count": 91,
   "metadata": {},
   "outputs": [
    {
     "name": "stdout",
     "output_type": "stream",
     "text": [
      "VALUE: 0\n",
      "VALUE: 2\n",
      "VALUE: 3\n"
     ]
    }
   ],
   "source": [
    "# just the values\n",
    "\n",
    "for v in d.values():\n",
    "    print(f'VALUE: {v}')"
   ]
  },
  {
   "cell_type": "code",
   "execution_count": null,
   "metadata": {},
   "outputs": [],
   "source": [
    "# values can be object\n",
    "\n",
    "d = {'a': [1,2,3], 'b': \"Hello\", 'c': 22, 'd': len}"
   ]
  },
  {
   "cell_type": "code",
   "execution_count": null,
   "metadata": {},
   "outputs": [],
   "source": [
    "# TODO iterate over differnt parts of the dict \n",
    "# TODO "
   ]
  },
  {
   "cell_type": "markdown",
   "metadata": {},
   "source": [
    "### Functions\n",
    "---"
   ]
  },
  {
   "cell_type": "code",
   "execution_count": 75,
   "metadata": {},
   "outputs": [],
   "source": [
    "def myFunc(p1, p2):\n",
    "    p1 = p1 + p2\n",
    "\n",
    "    return p1"
   ]
  },
  {
   "cell_type": "code",
   "execution_count": 76,
   "metadata": {},
   "outputs": [
    {
     "name": "stdout",
     "output_type": "stream",
     "text": [
      "result = 5\n",
      "a = 2\n",
      "b = 3\n"
     ]
    }
   ],
   "source": [
    "a = 2\n",
    "b = 3\n",
    "\n",
    "print(f'result = {myFunc(a, b)}')\n",
    "print(f'a = {a}')\n",
    "print(f'b = {b}')"
   ]
  },
  {
   "cell_type": "code",
   "execution_count": 78,
   "metadata": {},
   "outputs": [],
   "source": [
    "a = 1\n",
    "b = 1"
   ]
  },
  {
   "cell_type": "code",
   "execution_count": 79,
   "metadata": {},
   "outputs": [
    {
     "data": {
      "text/plain": [
       "1620835631344"
      ]
     },
     "execution_count": 79,
     "metadata": {},
     "output_type": "execute_result"
    }
   ],
   "source": [
    "id(a)"
   ]
  },
  {
   "cell_type": "code",
   "execution_count": 80,
   "metadata": {},
   "outputs": [
    {
     "data": {
      "text/plain": [
       "1620835631344"
      ]
     },
     "execution_count": 80,
     "metadata": {},
     "output_type": "execute_result"
    }
   ],
   "source": [
    "id(b)"
   ]
  },
  {
   "cell_type": "code",
   "execution_count": 77,
   "metadata": {},
   "outputs": [
    {
     "name": "stdout",
     "output_type": "stream",
     "text": [
      "result = [2, 3]\n",
      "a = [2]\n",
      "b = [3]\n"
     ]
    }
   ],
   "source": [
    "a = [2]\n",
    "b = [3]\n",
    "\n",
    "print(f'result = {myFunc(p1=a, p2=b)}')\n",
    "print(f'a = {a}')\n",
    "print(f'b = {b}')"
   ]
  },
  {
   "cell_type": "code",
   "execution_count": 56,
   "metadata": {},
   "outputs": [],
   "source": [
    "def myFunc2(p1):\n",
    "    p1.append(1)\n",
    "    return p1"
   ]
  },
  {
   "cell_type": "code",
   "execution_count": null,
   "metadata": {},
   "outputs": [],
   "source": [
    "a = [2]\n",
    "\n",
    "\n",
    "print(f'result = {myFunc2(a)}')\n",
    "print(f'a = {a}')\n",
    "\n"
   ]
  },
  {
   "cell_type": "code",
   "execution_count": null,
   "metadata": {},
   "outputs": [],
   "source": [
    "# functions are objects\n",
    "\n",
    "def f1(f, x):\n",
    "    print(\"This is a wrapper function\")\n",
    "    return f(x)\n",
    "\n",
    "def f2(x):\n",
    "    return x ** 2 + 1\n",
    "\n",
    "f1(f2, 2)"
   ]
  },
  {
   "cell_type": "code",
   "execution_count": null,
   "metadata": {},
   "outputs": [],
   "source": [
    "# methods are a subset of functions\n",
    "\n",
    "a = [1, 2]\n",
    "\n",
    "a.append(3) # this is a method\n",
    "sum(a) # this is a function"
   ]
  },
  {
   "cell_type": "code",
   "execution_count": null,
   "metadata": {},
   "outputs": [],
   "source": [
    "# lets explore some other builtin functions\n",
    "\n",
    "a = input(\"Please enter your name:\")\n",
    "\n",
    "print(f'Your name is {a}.')"
   ]
  },
  {
   "cell_type": "code",
   "execution_count": null,
   "metadata": {},
   "outputs": [],
   "source": [
    "a = input(\"Please enter a number:\")\n",
    "\n",
    "print(f'The type of a is: {type(a)}')"
   ]
  },
  {
   "cell_type": "code",
   "execution_count": 124,
   "metadata": {},
   "outputs": [],
   "source": [
    "# explicit type conversion\n",
    "\n",
    "a = int('1')\n",
    "b = str(1)\n",
    "c = tuple([1,2,3])"
   ]
  },
  {
   "cell_type": "code",
   "execution_count": null,
   "metadata": {},
   "outputs": [],
   "source": [
    "print(f'a is of the type {type(a)}')\n",
    "print(f'b is of the type {type(b)}')\n",
    "print(f'c is of the type {type(c)}')"
   ]
  },
  {
   "cell_type": "markdown",
   "metadata": {},
   "source": [
    "#### Mini Challenge\n",
    "\n",
    "---\n",
    "1. Start by requesting an integer from the user with the `input` function, name the variable that you assign to this integer `num_of_iters`.\n",
    "<br/><br/>\n",
    "2. Now, create a `for` loop and request an integer from the user on each iteration. Use the `num_of_iters` variable to set the number of iterations for the loop.\n",
    "<br/><br/>\n",
    "3. During the loop, each integer entered by the user should be appended to a list.\n",
    "<br/><br/>\n",
    "4. The for loop should end (i.e. `break`) when the user enters a 0. \n",
    "<br/><br/>\n",
    "5. After the loop ends call a function which will calculate the sum and mean of integers in the list.\n",
    "<br/>Note that **mean** = $\\dfrac{x_1 + x_2 + ... +x_n}{n}$ where $n$ is the length of the list.\n",
    "<br/><br/>\n",
    "6. The function should return both the sum and the mean, and then you should print both (with informative text).\n",
    "<br/><br/>\n",
    "\n",
    "\n"
   ]
  },
  {
   "cell_type": "code",
   "execution_count": null,
   "metadata": {},
   "outputs": [],
   "source": [
    "# do the challenge here"
   ]
  },
  {
   "cell_type": "markdown",
   "metadata": {},
   "source": [
    "## Additional Content"
   ]
  },
  {
   "cell_type": "markdown",
   "metadata": {},
   "source": [
    "### File Handlers\n",
    "---"
   ]
  },
  {
   "cell_type": "code",
   "execution_count": 134,
   "metadata": {},
   "outputs": [],
   "source": [
    "# write to a file\n",
    "\n",
    "f = open('my_file.txt', 'w')\n",
    "f.writelines([\"Python is my favorite language.\\n\", \"Java is ok too.\"])\n",
    "f.close()"
   ]
  },
  {
   "cell_type": "code",
   "execution_count": null,
   "metadata": {},
   "outputs": [],
   "source": [
    "# reading\n",
    "\n",
    "f = open('my_file.txt', 'r')\n",
    "lines = f.readlines()\n",
    "f.close()\n",
    "\n",
    "print(lines)"
   ]
  },
  {
   "cell_type": "code",
   "execution_count": null,
   "metadata": {},
   "outputs": [],
   "source": [
    "# alternatively\n",
    "\n",
    "with open('my_file.txt', 'r') as f:\n",
    "    lines = f.readlines()\n",
    "\n",
    "print(lines)\n",
    "\n",
    "# note the differences... What do you think the 'with' statement does?"
   ]
  },
  {
   "cell_type": "markdown",
   "metadata": {},
   "source": [
    "### Python Packages\n",
    "---"
   ]
  },
  {
   "cell_type": "code",
   "execution_count": 141,
   "metadata": {},
   "outputs": [],
   "source": [
    "import math\n",
    "from math import ceil # import a function\n",
    "from math import pi # import a constant"
   ]
  },
  {
   "cell_type": "code",
   "execution_count": 139,
   "metadata": {},
   "outputs": [
    {
     "name": "stdout",
     "output_type": "stream",
     "text": [
      "Area of the circle: 3.141592653589793\n"
     ]
    }
   ],
   "source": [
    "r = 1\n",
    "\n",
    "area = pi * (r**2) \n",
    "\n",
    "print(f'Area of the circle: {area}')"
   ]
  },
  {
   "cell_type": "code",
   "execution_count": 142,
   "metadata": {},
   "outputs": [
    {
     "name": "stdout",
     "output_type": "stream",
     "text": [
      "b = 3 and c = 3\n"
     ]
    }
   ],
   "source": [
    "a = 2.71\n",
    "\n",
    "b = ceil(a)\n",
    "\n",
    "c = math.ceil(a)\n",
    "\n",
    "print(f'b = {b} and c = {c}')"
   ]
  },
  {
   "cell_type": "code",
   "execution_count": null,
   "metadata": {},
   "outputs": [],
   "source": [
    "# if a package is not installed...\n",
    "\n",
    "%pip install pandas"
   ]
  },
  {
   "cell_type": "code",
   "execution_count": null,
   "metadata": {},
   "outputs": [],
   "source": [
    "import pandas as pd\n",
    "from pandas import DataFrame # import a class\n",
    "from pandas.plotting import boxplot # import from a module"
   ]
  },
  {
   "cell_type": "code",
   "execution_count": null,
   "metadata": {},
   "outputs": [],
   "source": [
    "# try using the python package json\n",
    "import json"
   ]
  },
  {
   "cell_type": "code",
   "execution_count": 99,
   "metadata": {},
   "outputs": [],
   "source": [
    "d = {'Andrew': 9, 'Steve': 15, 'Suzy': 20, 'JJ': 31}\n",
    "\n",
    "filename = 'your_filename_here.json'\n",
    "\n",
    "with open(filename, 'w') as f:\n",
    "    json.dump(d, f)\n",
    "    "
   ]
  },
  {
   "cell_type": "code",
   "execution_count": 100,
   "metadata": {},
   "outputs": [],
   "source": [
    "# read then write\n",
    "\n",
    "with open(filename, 'r') as f:\n",
    "    d = json.load(f)\n",
    "\n",
    "d['Keri'] = 25\n",
    "\n",
    "with open(filename, 'w') as f:\n",
    "    json.dump(d, f)\n"
   ]
  }
 ],
 "metadata": {
  "kernelspec": {
   "display_name": "Python 3",
   "language": "python",
   "name": "python3"
  },
  "language_info": {
   "codemirror_mode": {
    "name": "ipython",
    "version": 3
   },
   "file_extension": ".py",
   "mimetype": "text/x-python",
   "name": "python",
   "nbconvert_exporter": "python",
   "pygments_lexer": "ipython3",
   "version": "3.10.6"
  }
 },
 "nbformat": 4,
 "nbformat_minor": 2
}
